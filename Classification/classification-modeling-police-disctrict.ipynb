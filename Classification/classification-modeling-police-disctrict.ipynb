{
 "cells": [
  {
   "cell_type": "code",
   "execution_count": 1,
   "metadata": {
    "execution": {
     "iopub.execute_input": "2021-02-22T17:55:54.813193Z",
     "iopub.status.busy": "2021-02-22T17:55:54.812560Z",
     "iopub.status.idle": "2021-02-22T17:55:54.816848Z",
     "shell.execute_reply": "2021-02-22T17:55:54.817343Z"
    },
    "papermill": {
     "duration": 0.022992,
     "end_time": "2021-02-22T17:55:54.817627",
     "exception": false,
     "start_time": "2021-02-22T17:55:54.794635",
     "status": "completed"
    },
    "tags": []
   },
   "outputs": [],
   "source": [
    "import warnings\n",
    "warnings.filterwarnings(\"ignore\")"
   ]
  },
  {
   "cell_type": "code",
   "execution_count": 2,
   "metadata": {
    "execution": {
     "iopub.execute_input": "2021-02-22T17:55:54.849416Z",
     "iopub.status.busy": "2021-02-22T17:55:54.848725Z",
     "iopub.status.idle": "2021-02-22T17:55:54.853619Z",
     "shell.execute_reply": "2021-02-22T17:55:54.853104Z"
    },
    "papermill": {
     "duration": 0.021804,
     "end_time": "2021-02-22T17:55:54.853772",
     "exception": false,
     "start_time": "2021-02-22T17:55:54.831968",
     "status": "completed"
    },
    "tags": []
   },
   "outputs": [],
   "source": [
    "import pandas as pd\n",
    "import datetime\n",
    "import numpy as np"
   ]
  },
  {
   "cell_type": "code",
   "execution_count": 3,
   "metadata": {
    "execution": {
     "iopub.execute_input": "2021-02-22T17:55:54.888309Z",
     "iopub.status.busy": "2021-02-22T17:55:54.887680Z",
     "iopub.status.idle": "2021-02-22T17:55:59.908002Z",
     "shell.execute_reply": "2021-02-22T17:55:59.907448Z"
    },
    "papermill": {
     "duration": 5.039831,
     "end_time": "2021-02-22T17:55:59.908166",
     "exception": false,
     "start_time": "2021-02-22T17:55:54.868335",
     "status": "completed"
    },
    "tags": []
   },
   "outputs": [
    {
     "data": {
      "text/html": [
       "<div>\n",
       "<style scoped>\n",
       "    .dataframe tbody tr th:only-of-type {\n",
       "        vertical-align: middle;\n",
       "    }\n",
       "\n",
       "    .dataframe tbody tr th {\n",
       "        vertical-align: top;\n",
       "    }\n",
       "\n",
       "    .dataframe thead th {\n",
       "        text-align: right;\n",
       "    }\n",
       "</style>\n",
       "<table border=\"1\" class=\"dataframe\">\n",
       "  <thead>\n",
       "    <tr style=\"text-align: right;\">\n",
       "      <th></th>\n",
       "      <th>Unnamed: 0</th>\n",
       "      <th>incident_id</th>\n",
       "      <th>case_number</th>\n",
       "      <th>incident_datetime</th>\n",
       "      <th>incident_type_primary</th>\n",
       "      <th>incident_description</th>\n",
       "      <th>clearance_type</th>\n",
       "      <th>address_1</th>\n",
       "      <th>address_2</th>\n",
       "      <th>city</th>\n",
       "      <th>...</th>\n",
       "      <th>parent_incident_type</th>\n",
       "      <th>Census Tract 1</th>\n",
       "      <th>Census Block 1</th>\n",
       "      <th>Census Block Group 1</th>\n",
       "      <th>Neighborhood 1</th>\n",
       "      <th>Police District 1</th>\n",
       "      <th>Council District 1</th>\n",
       "      <th>neighborhood</th>\n",
       "      <th>police_dt</th>\n",
       "      <th>council_dt</th>\n",
       "    </tr>\n",
       "  </thead>\n",
       "  <tbody>\n",
       "    <tr>\n",
       "      <th>0</th>\n",
       "      <td>59596</td>\n",
       "      <td>55236827.0</td>\n",
       "      <td>11-0050386</td>\n",
       "      <td>1910-12-22 00:00:00</td>\n",
       "      <td>LARCENY/THEFT</td>\n",
       "      <td>Buffalo Police are investigating this report o...</td>\n",
       "      <td>NaN</td>\n",
       "      <td>200 Block CRESTWOOD AV</td>\n",
       "      <td>NaN</td>\n",
       "      <td>BUFFALO</td>\n",
       "      <td>...</td>\n",
       "      <td>Theft</td>\n",
       "      <td>NaN</td>\n",
       "      <td>NaN</td>\n",
       "      <td>NaN</td>\n",
       "      <td>NaN</td>\n",
       "      <td>NaN</td>\n",
       "      <td>NaN</td>\n",
       "      <td>North Park</td>\n",
       "      <td>District D</td>\n",
       "      <td>DELAWARE</td>\n",
       "    </tr>\n",
       "    <tr>\n",
       "      <th>1</th>\n",
       "      <td>121509</td>\n",
       "      <td>710086379.0</td>\n",
       "      <td>15-0760407</td>\n",
       "      <td>1914-12-01 22:00:00</td>\n",
       "      <td>LARCENY/THEFT</td>\n",
       "      <td>Buffalo Police are investigating this report o...</td>\n",
       "      <td>NaN</td>\n",
       "      <td>100 Block LINCOLN PW</td>\n",
       "      <td>NaN</td>\n",
       "      <td>BUFFALO</td>\n",
       "      <td>...</td>\n",
       "      <td>Theft</td>\n",
       "      <td>NaN</td>\n",
       "      <td>NaN</td>\n",
       "      <td>NaN</td>\n",
       "      <td>NaN</td>\n",
       "      <td>NaN</td>\n",
       "      <td>NaN</td>\n",
       "      <td>Elmwood Bidwell</td>\n",
       "      <td>District D</td>\n",
       "      <td>DELAWARE</td>\n",
       "    </tr>\n",
       "    <tr>\n",
       "      <th>2</th>\n",
       "      <td>204751</td>\n",
       "      <td>942663542.0</td>\n",
       "      <td>06-1840984</td>\n",
       "      <td>1951-07-03 19:51:00</td>\n",
       "      <td>UUV</td>\n",
       "      <td>Buffalo Police are investigating this report o...</td>\n",
       "      <td>NaN</td>\n",
       "      <td>200 Block W FERRY ST</td>\n",
       "      <td>NaN</td>\n",
       "      <td>BUFFALO</td>\n",
       "      <td>...</td>\n",
       "      <td>Theft of Vehicle</td>\n",
       "      <td>NaN</td>\n",
       "      <td>NaN</td>\n",
       "      <td>NaN</td>\n",
       "      <td>NaN</td>\n",
       "      <td>NaN</td>\n",
       "      <td>NaN</td>\n",
       "      <td>Upper West Side</td>\n",
       "      <td>District B</td>\n",
       "      <td>NIAGARA</td>\n",
       "    </tr>\n",
       "    <tr>\n",
       "      <th>3</th>\n",
       "      <td>146812</td>\n",
       "      <td>146621859.0</td>\n",
       "      <td>13-0730379</td>\n",
       "      <td>1951-12-05 02:20:21</td>\n",
       "      <td>ASSAULT</td>\n",
       "      <td>Buffalo Police are investigating this report o...</td>\n",
       "      <td>NaN</td>\n",
       "      <td>200 Block CAMBRIDGE AV</td>\n",
       "      <td>NaN</td>\n",
       "      <td>BUFFALO</td>\n",
       "      <td>...</td>\n",
       "      <td>Assault</td>\n",
       "      <td>NaN</td>\n",
       "      <td>NaN</td>\n",
       "      <td>NaN</td>\n",
       "      <td>NaN</td>\n",
       "      <td>NaN</td>\n",
       "      <td>NaN</td>\n",
       "      <td>Genesee-Moselle</td>\n",
       "      <td>District E</td>\n",
       "      <td>MASTEN</td>\n",
       "    </tr>\n",
       "    <tr>\n",
       "      <th>4</th>\n",
       "      <td>233717</td>\n",
       "      <td>942606470.0</td>\n",
       "      <td>08-3530528</td>\n",
       "      <td>1952-08-30 16:00:00</td>\n",
       "      <td>LARCENY/THEFT</td>\n",
       "      <td>Buffalo Police are investigating this report o...</td>\n",
       "      <td>NaN</td>\n",
       "      <td>200 Block JEFFERSON AV</td>\n",
       "      <td>NaN</td>\n",
       "      <td>BUFFALO</td>\n",
       "      <td>...</td>\n",
       "      <td>Theft</td>\n",
       "      <td>NaN</td>\n",
       "      <td>NaN</td>\n",
       "      <td>NaN</td>\n",
       "      <td>NaN</td>\n",
       "      <td>NaN</td>\n",
       "      <td>NaN</td>\n",
       "      <td>Broadway Fillmore</td>\n",
       "      <td>District C</td>\n",
       "      <td>ELLICOTT</td>\n",
       "    </tr>\n",
       "  </tbody>\n",
       "</table>\n",
       "<p>5 rows × 30 columns</p>\n",
       "</div>"
      ],
      "text/plain": [
       "   Unnamed: 0  incident_id case_number    incident_datetime  \\\n",
       "0       59596   55236827.0  11-0050386  1910-12-22 00:00:00   \n",
       "1      121509  710086379.0  15-0760407  1914-12-01 22:00:00   \n",
       "2      204751  942663542.0  06-1840984  1951-07-03 19:51:00   \n",
       "3      146812  146621859.0  13-0730379  1951-12-05 02:20:21   \n",
       "4      233717  942606470.0  08-3530528  1952-08-30 16:00:00   \n",
       "\n",
       "  incident_type_primary                               incident_description  \\\n",
       "0         LARCENY/THEFT  Buffalo Police are investigating this report o...   \n",
       "1         LARCENY/THEFT  Buffalo Police are investigating this report o...   \n",
       "2                   UUV  Buffalo Police are investigating this report o...   \n",
       "3               ASSAULT  Buffalo Police are investigating this report o...   \n",
       "4         LARCENY/THEFT  Buffalo Police are investigating this report o...   \n",
       "\n",
       "   clearance_type               address_1  address_2     city  ...  \\\n",
       "0             NaN  200 Block CRESTWOOD AV        NaN  BUFFALO  ...   \n",
       "1             NaN    100 Block LINCOLN PW        NaN  BUFFALO  ...   \n",
       "2             NaN    200 Block W FERRY ST        NaN  BUFFALO  ...   \n",
       "3             NaN  200 Block CAMBRIDGE AV        NaN  BUFFALO  ...   \n",
       "4             NaN  200 Block JEFFERSON AV        NaN  BUFFALO  ...   \n",
       "\n",
       "  parent_incident_type Census Tract 1 Census Block 1  Census Block Group 1  \\\n",
       "0                Theft            NaN            NaN                   NaN   \n",
       "1                Theft            NaN            NaN                   NaN   \n",
       "2     Theft of Vehicle            NaN            NaN                   NaN   \n",
       "3              Assault            NaN            NaN                   NaN   \n",
       "4                Theft            NaN            NaN                   NaN   \n",
       "\n",
       "   Neighborhood 1 Police District 1 Council District 1       neighborhood  \\\n",
       "0             NaN               NaN                NaN         North Park   \n",
       "1             NaN               NaN                NaN    Elmwood Bidwell   \n",
       "2             NaN               NaN                NaN    Upper West Side   \n",
       "3             NaN               NaN                NaN    Genesee-Moselle   \n",
       "4             NaN               NaN                NaN  Broadway Fillmore   \n",
       "\n",
       "    police_dt council_dt  \n",
       "0  District D   DELAWARE  \n",
       "1  District D   DELAWARE  \n",
       "2  District B    NIAGARA  \n",
       "3  District E     MASTEN  \n",
       "4  District C   ELLICOTT  \n",
       "\n",
       "[5 rows x 30 columns]"
      ]
     },
     "execution_count": 3,
     "metadata": {},
     "output_type": "execute_result"
    }
   ],
   "source": [
    "df= pd.read_csv('../input/crimesdistrict/crime_with_coordinates.csv', low_memory=False)\n",
    "df.head()"
   ]
  },
  {
   "cell_type": "code",
   "execution_count": 4,
   "metadata": {
    "execution": {
     "iopub.execute_input": "2021-02-22T17:55:59.945565Z",
     "iopub.status.busy": "2021-02-22T17:55:59.944827Z",
     "iopub.status.idle": "2021-02-22T17:55:59.949110Z",
     "shell.execute_reply": "2021-02-22T17:55:59.949735Z"
    },
    "papermill": {
     "duration": 0.026008,
     "end_time": "2021-02-22T17:55:59.949922",
     "exception": false,
     "start_time": "2021-02-22T17:55:59.923914",
     "status": "completed"
    },
    "tags": []
   },
   "outputs": [
    {
     "data": {
      "text/plain": [
       "(267997, 30)"
      ]
     },
     "execution_count": 4,
     "metadata": {},
     "output_type": "execute_result"
    }
   ],
   "source": [
    "df.shape"
   ]
  },
  {
   "cell_type": "code",
   "execution_count": 5,
   "metadata": {
    "execution": {
     "iopub.execute_input": "2021-02-22T17:55:59.985684Z",
     "iopub.status.busy": "2021-02-22T17:55:59.984612Z",
     "iopub.status.idle": "2021-02-22T17:55:59.994603Z",
     "shell.execute_reply": "2021-02-22T17:55:59.995146Z"
    },
    "papermill": {
     "duration": 0.029499,
     "end_time": "2021-02-22T17:55:59.995321",
     "exception": false,
     "start_time": "2021-02-22T17:55:59.965822",
     "status": "completed"
    },
    "tags": []
   },
   "outputs": [],
   "source": [
    "import datetime\n",
    "df_police = df[['incident_datetime', 'police_dt']]"
   ]
  },
  {
   "cell_type": "code",
   "execution_count": 6,
   "metadata": {
    "execution": {
     "iopub.execute_input": "2021-02-22T17:56:00.121998Z",
     "iopub.status.busy": "2021-02-22T17:56:00.121307Z",
     "iopub.status.idle": "2021-02-22T17:56:00.393566Z",
     "shell.execute_reply": "2021-02-22T17:56:00.392857Z"
    },
    "papermill": {
     "duration": 0.38279,
     "end_time": "2021-02-22T17:56:00.393715",
     "exception": false,
     "start_time": "2021-02-22T17:56:00.010925",
     "status": "completed"
    },
    "tags": []
   },
   "outputs": [],
   "source": [
    "df_police.incident_datetime = pd.to_datetime(df_police.incident_datetime)\n",
    "df_police = pd.DataFrame({'no_of_incidents' : df_police.groupby(\n",
    "   [ df_police.police_dt, df_police.incident_datetime.dt.date] ).size()}).reset_index()"
   ]
  },
  {
   "cell_type": "code",
   "execution_count": 7,
   "metadata": {
    "execution": {
     "iopub.execute_input": "2021-02-22T17:56:00.436129Z",
     "iopub.status.busy": "2021-02-22T17:56:00.433460Z",
     "iopub.status.idle": "2021-02-22T17:56:00.442236Z",
     "shell.execute_reply": "2021-02-22T17:56:00.441668Z"
    },
    "papermill": {
     "duration": 0.032665,
     "end_time": "2021-02-22T17:56:00.442385",
     "exception": false,
     "start_time": "2021-02-22T17:56:00.409720",
     "status": "completed"
    },
    "tags": []
   },
   "outputs": [
    {
     "data": {
      "text/html": [
       "<div>\n",
       "<style scoped>\n",
       "    .dataframe tbody tr th:only-of-type {\n",
       "        vertical-align: middle;\n",
       "    }\n",
       "\n",
       "    .dataframe tbody tr th {\n",
       "        vertical-align: top;\n",
       "    }\n",
       "\n",
       "    .dataframe thead th {\n",
       "        text-align: right;\n",
       "    }\n",
       "</style>\n",
       "<table border=\"1\" class=\"dataframe\">\n",
       "  <thead>\n",
       "    <tr style=\"text-align: right;\">\n",
       "      <th></th>\n",
       "      <th>police_dt</th>\n",
       "      <th>incident_datetime</th>\n",
       "      <th>no_of_incidents</th>\n",
       "    </tr>\n",
       "  </thead>\n",
       "  <tbody>\n",
       "    <tr>\n",
       "      <th>27380</th>\n",
       "      <td>District E</td>\n",
       "      <td>2021-02-15</td>\n",
       "      <td>6</td>\n",
       "    </tr>\n",
       "    <tr>\n",
       "      <th>27381</th>\n",
       "      <td>District E</td>\n",
       "      <td>2021-02-16</td>\n",
       "      <td>3</td>\n",
       "    </tr>\n",
       "    <tr>\n",
       "      <th>27382</th>\n",
       "      <td>District E</td>\n",
       "      <td>2021-02-17</td>\n",
       "      <td>2</td>\n",
       "    </tr>\n",
       "    <tr>\n",
       "      <th>27383</th>\n",
       "      <td>District E</td>\n",
       "      <td>2021-02-18</td>\n",
       "      <td>3</td>\n",
       "    </tr>\n",
       "    <tr>\n",
       "      <th>27384</th>\n",
       "      <td>District E</td>\n",
       "      <td>2021-02-19</td>\n",
       "      <td>2</td>\n",
       "    </tr>\n",
       "  </tbody>\n",
       "</table>\n",
       "</div>"
      ],
      "text/plain": [
       "        police_dt incident_datetime  no_of_incidents\n",
       "27380  District E        2021-02-15                6\n",
       "27381  District E        2021-02-16                3\n",
       "27382  District E        2021-02-17                2\n",
       "27383  District E        2021-02-18                3\n",
       "27384  District E        2021-02-19                2"
      ]
     },
     "execution_count": 7,
     "metadata": {},
     "output_type": "execute_result"
    }
   ],
   "source": [
    "df_police.tail()"
   ]
  },
  {
   "cell_type": "code",
   "execution_count": 8,
   "metadata": {
    "execution": {
     "iopub.execute_input": "2021-02-22T17:56:00.489291Z",
     "iopub.status.busy": "2021-02-22T17:56:00.486462Z",
     "iopub.status.idle": "2021-02-22T17:56:00.493618Z",
     "shell.execute_reply": "2021-02-22T17:56:00.493042Z"
    },
    "papermill": {
     "duration": 0.034765,
     "end_time": "2021-02-22T17:56:00.493759",
     "exception": false,
     "start_time": "2021-02-22T17:56:00.458994",
     "status": "completed"
    },
    "tags": []
   },
   "outputs": [
    {
     "data": {
      "text/plain": [
       "police_dt            0\n",
       "incident_datetime    0\n",
       "no_of_incidents      0\n",
       "dtype: int64"
      ]
     },
     "execution_count": 8,
     "metadata": {},
     "output_type": "execute_result"
    }
   ],
   "source": [
    "df_police.isna().sum()\n"
   ]
  },
  {
   "cell_type": "code",
   "execution_count": 9,
   "metadata": {
    "execution": {
     "iopub.execute_input": "2021-02-22T17:56:00.539340Z",
     "iopub.status.busy": "2021-02-22T17:56:00.538477Z",
     "iopub.status.idle": "2021-02-22T17:56:00.571910Z",
     "shell.execute_reply": "2021-02-22T17:56:00.571275Z"
    },
    "papermill": {
     "duration": 0.061389,
     "end_time": "2021-02-22T17:56:00.572050",
     "exception": false,
     "start_time": "2021-02-22T17:56:00.510661",
     "status": "completed"
    },
    "tags": []
   },
   "outputs": [
    {
     "data": {
      "text/html": [
       "<div>\n",
       "<style scoped>\n",
       "    .dataframe tbody tr th:only-of-type {\n",
       "        vertical-align: middle;\n",
       "    }\n",
       "\n",
       "    .dataframe tbody tr th {\n",
       "        vertical-align: top;\n",
       "    }\n",
       "\n",
       "    .dataframe thead th {\n",
       "        text-align: right;\n",
       "    }\n",
       "</style>\n",
       "<table border=\"1\" class=\"dataframe\">\n",
       "  <thead>\n",
       "    <tr style=\"text-align: right;\">\n",
       "      <th></th>\n",
       "      <th>police_dt</th>\n",
       "      <th>incident_datetime</th>\n",
       "      <th>no_of_incidents</th>\n",
       "      <th>year</th>\n",
       "    </tr>\n",
       "  </thead>\n",
       "  <tbody>\n",
       "    <tr>\n",
       "      <th>995</th>\n",
       "      <td>District A</td>\n",
       "      <td>2009-01-01</td>\n",
       "      <td>17</td>\n",
       "      <td>2009</td>\n",
       "    </tr>\n",
       "    <tr>\n",
       "      <th>996</th>\n",
       "      <td>District A</td>\n",
       "      <td>2009-01-02</td>\n",
       "      <td>8</td>\n",
       "      <td>2009</td>\n",
       "    </tr>\n",
       "    <tr>\n",
       "      <th>997</th>\n",
       "      <td>District A</td>\n",
       "      <td>2009-01-03</td>\n",
       "      <td>8</td>\n",
       "      <td>2009</td>\n",
       "    </tr>\n",
       "    <tr>\n",
       "      <th>998</th>\n",
       "      <td>District A</td>\n",
       "      <td>2009-01-04</td>\n",
       "      <td>6</td>\n",
       "      <td>2009</td>\n",
       "    </tr>\n",
       "    <tr>\n",
       "      <th>999</th>\n",
       "      <td>District A</td>\n",
       "      <td>2009-01-05</td>\n",
       "      <td>9</td>\n",
       "      <td>2009</td>\n",
       "    </tr>\n",
       "  </tbody>\n",
       "</table>\n",
       "</div>"
      ],
      "text/plain": [
       "      police_dt incident_datetime  no_of_incidents  year\n",
       "995  District A        2009-01-01               17  2009\n",
       "996  District A        2009-01-02                8  2009\n",
       "997  District A        2009-01-03                8  2009\n",
       "998  District A        2009-01-04                6  2009\n",
       "999  District A        2009-01-05                9  2009"
      ]
     },
     "execution_count": 9,
     "metadata": {},
     "output_type": "execute_result"
    }
   ],
   "source": [
    "#Data Series Start Date\t1/2009 (unreliable data before this date)\n",
    "df_police['year'] = pd.DatetimeIndex(df_police['incident_datetime']).year\n",
    "df_police= df_police[df_police.year>=2009]\n",
    "\n",
    "df_police.head()"
   ]
  },
  {
   "cell_type": "code",
   "execution_count": 10,
   "metadata": {
    "execution": {
     "iopub.execute_input": "2021-02-22T17:56:00.614842Z",
     "iopub.status.busy": "2021-02-22T17:56:00.612622Z",
     "iopub.status.idle": "2021-02-22T17:56:00.617557Z",
     "shell.execute_reply": "2021-02-22T17:56:00.618033Z"
    },
    "papermill": {
     "duration": 0.028751,
     "end_time": "2021-02-22T17:56:00.618217",
     "exception": false,
     "start_time": "2021-02-22T17:56:00.589466",
     "status": "completed"
    },
    "tags": []
   },
   "outputs": [
    {
     "data": {
      "text/plain": [
       "array([2009, 2010, 2011, 2012, 2013, 2014, 2015, 2016, 2017, 2018, 2019,\n",
       "       2020, 2021])"
      ]
     },
     "execution_count": 10,
     "metadata": {},
     "output_type": "execute_result"
    }
   ],
   "source": [
    "df_police['year'].unique()\n"
   ]
  },
  {
   "cell_type": "code",
   "execution_count": 11,
   "metadata": {
    "execution": {
     "iopub.execute_input": "2021-02-22T17:56:00.659239Z",
     "iopub.status.busy": "2021-02-22T17:56:00.658555Z",
     "iopub.status.idle": "2021-02-22T17:56:00.678960Z",
     "shell.execute_reply": "2021-02-22T17:56:00.678430Z"
    },
    "papermill": {
     "duration": 0.042903,
     "end_time": "2021-02-22T17:56:00.679127",
     "exception": false,
     "start_time": "2021-02-22T17:56:00.636224",
     "status": "completed"
    },
    "tags": []
   },
   "outputs": [
    {
     "data": {
      "text/plain": [
       "police_dt               5\n",
       "incident_datetime    4433\n",
       "no_of_incidents        34\n",
       "year                   13\n",
       "dtype: int64"
      ]
     },
     "execution_count": 11,
     "metadata": {},
     "output_type": "execute_result"
    }
   ],
   "source": [
    "df_police.nunique()"
   ]
  },
  {
   "cell_type": "markdown",
   "metadata": {
    "papermill": {
     "duration": 0.017896,
     "end_time": "2021-02-22T17:56:00.715460",
     "exception": false,
     "start_time": "2021-02-22T17:56:00.697564",
     "status": "completed"
    },
    "tags": []
   },
   "source": [
    "#### create dummies variables district"
   ]
  },
  {
   "cell_type": "code",
   "execution_count": 12,
   "metadata": {
    "execution": {
     "iopub.execute_input": "2021-02-22T17:56:00.756157Z",
     "iopub.status.busy": "2021-02-22T17:56:00.755497Z",
     "iopub.status.idle": "2021-02-22T17:56:00.758341Z",
     "shell.execute_reply": "2021-02-22T17:56:00.757839Z"
    },
    "papermill": {
     "duration": 0.024718,
     "end_time": "2021-02-22T17:56:00.758483",
     "exception": false,
     "start_time": "2021-02-22T17:56:00.733765",
     "status": "completed"
    },
    "tags": []
   },
   "outputs": [],
   "source": [
    "# dummy_district = pd.get_dummies(df_police['police_dt'])\n",
    "\n",
    "# dummy_district.columns = df_police['police_dt'].unique()\n",
    "\n",
    "# df_police = pd.concat([df_police,dummy_district], axis=1)\n"
   ]
  },
  {
   "cell_type": "code",
   "execution_count": 13,
   "metadata": {
    "execution": {
     "iopub.execute_input": "2021-02-22T17:56:00.802179Z",
     "iopub.status.busy": "2021-02-22T17:56:00.801532Z",
     "iopub.status.idle": "2021-02-22T17:56:00.803454Z",
     "shell.execute_reply": "2021-02-22T17:56:00.803929Z"
    },
    "papermill": {
     "duration": 0.026785,
     "end_time": "2021-02-22T17:56:00.804114",
     "exception": false,
     "start_time": "2021-02-22T17:56:00.777329",
     "status": "completed"
    },
    "tags": []
   },
   "outputs": [],
   "source": [
    "df_police.drop(['incident_datetime'] ,axis= 1,  inplace=True)"
   ]
  },
  {
   "cell_type": "code",
   "execution_count": 14,
   "metadata": {
    "execution": {
     "iopub.execute_input": "2021-02-22T17:56:00.844361Z",
     "iopub.status.busy": "2021-02-22T17:56:00.843721Z",
     "iopub.status.idle": "2021-02-22T17:56:00.855021Z",
     "shell.execute_reply": "2021-02-22T17:56:00.854469Z"
    },
    "papermill": {
     "duration": 0.032487,
     "end_time": "2021-02-22T17:56:00.855177",
     "exception": false,
     "start_time": "2021-02-22T17:56:00.822690",
     "status": "completed"
    },
    "tags": []
   },
   "outputs": [
    {
     "data": {
      "text/html": [
       "<div>\n",
       "<style scoped>\n",
       "    .dataframe tbody tr th:only-of-type {\n",
       "        vertical-align: middle;\n",
       "    }\n",
       "\n",
       "    .dataframe tbody tr th {\n",
       "        vertical-align: top;\n",
       "    }\n",
       "\n",
       "    .dataframe thead th {\n",
       "        text-align: right;\n",
       "    }\n",
       "</style>\n",
       "<table border=\"1\" class=\"dataframe\">\n",
       "  <thead>\n",
       "    <tr style=\"text-align: right;\">\n",
       "      <th></th>\n",
       "      <th>police_dt</th>\n",
       "      <th>no_of_incidents</th>\n",
       "      <th>year</th>\n",
       "    </tr>\n",
       "  </thead>\n",
       "  <tbody>\n",
       "    <tr>\n",
       "      <th>995</th>\n",
       "      <td>District A</td>\n",
       "      <td>17</td>\n",
       "      <td>2009</td>\n",
       "    </tr>\n",
       "    <tr>\n",
       "      <th>996</th>\n",
       "      <td>District A</td>\n",
       "      <td>8</td>\n",
       "      <td>2009</td>\n",
       "    </tr>\n",
       "    <tr>\n",
       "      <th>997</th>\n",
       "      <td>District A</td>\n",
       "      <td>8</td>\n",
       "      <td>2009</td>\n",
       "    </tr>\n",
       "    <tr>\n",
       "      <th>998</th>\n",
       "      <td>District A</td>\n",
       "      <td>6</td>\n",
       "      <td>2009</td>\n",
       "    </tr>\n",
       "    <tr>\n",
       "      <th>999</th>\n",
       "      <td>District A</td>\n",
       "      <td>9</td>\n",
       "      <td>2009</td>\n",
       "    </tr>\n",
       "  </tbody>\n",
       "</table>\n",
       "</div>"
      ],
      "text/plain": [
       "      police_dt  no_of_incidents  year\n",
       "995  District A               17  2009\n",
       "996  District A                8  2009\n",
       "997  District A                8  2009\n",
       "998  District A                6  2009\n",
       "999  District A                9  2009"
      ]
     },
     "execution_count": 14,
     "metadata": {},
     "output_type": "execute_result"
    }
   ],
   "source": [
    "df_police.head()"
   ]
  },
  {
   "cell_type": "markdown",
   "metadata": {
    "papermill": {
     "duration": 0.020276,
     "end_time": "2021-02-22T17:56:00.894835",
     "exception": false,
     "start_time": "2021-02-22T17:56:00.874559",
     "status": "completed"
    },
    "tags": []
   },
   "source": [
    "# Pipeline"
   ]
  },
  {
   "cell_type": "code",
   "execution_count": 15,
   "metadata": {
    "execution": {
     "iopub.execute_input": "2021-02-22T17:56:00.937354Z",
     "iopub.status.busy": "2021-02-22T17:56:00.936663Z",
     "iopub.status.idle": "2021-02-22T17:56:00.942008Z",
     "shell.execute_reply": "2021-02-22T17:56:00.942554Z"
    },
    "papermill": {
     "duration": 0.028135,
     "end_time": "2021-02-22T17:56:00.942728",
     "exception": false,
     "start_time": "2021-02-22T17:56:00.914593",
     "status": "completed"
    },
    "tags": []
   },
   "outputs": [],
   "source": [
    "X=  df_police.drop('no_of_incidents', axis = 1)\n",
    "y = df_police.no_of_incidents"
   ]
  },
  {
   "cell_type": "code",
   "execution_count": 16,
   "metadata": {
    "execution": {
     "iopub.execute_input": "2021-02-22T17:56:00.984524Z",
     "iopub.status.busy": "2021-02-22T17:56:00.983900Z",
     "iopub.status.idle": "2021-02-22T17:56:01.915376Z",
     "shell.execute_reply": "2021-02-22T17:56:01.914590Z"
    },
    "papermill": {
     "duration": 0.953547,
     "end_time": "2021-02-22T17:56:01.915545",
     "exception": false,
     "start_time": "2021-02-22T17:56:00.961998",
     "status": "completed"
    },
    "tags": []
   },
   "outputs": [],
   "source": [
    "from sklearn.model_selection import train_test_split\n",
    "X_train, X_test, y_train, y_test= train_test_split(X, y , test_size= 0.2, random_state= 42)"
   ]
  },
  {
   "cell_type": "code",
   "execution_count": 17,
   "metadata": {
    "execution": {
     "iopub.execute_input": "2021-02-22T17:56:01.961172Z",
     "iopub.status.busy": "2021-02-22T17:56:01.960505Z",
     "iopub.status.idle": "2021-02-22T17:56:02.193889Z",
     "shell.execute_reply": "2021-02-22T17:56:02.193221Z"
    },
    "papermill": {
     "duration": 0.258995,
     "end_time": "2021-02-22T17:56:02.194028",
     "exception": false,
     "start_time": "2021-02-22T17:56:01.935033",
     "status": "completed"
    },
    "tags": []
   },
   "outputs": [],
   "source": [
    "from sklearn.pipeline import Pipeline\n",
    "from sklearn.impute import SimpleImputer\n",
    "from sklearn.preprocessing import StandardScaler, OneHotEncoder\n",
    "\n",
    "#SimpleImputer fill any missing values \n",
    "#Scaler numeric transformer\n",
    "\n",
    "numeric_transformer = Pipeline(steps=[\n",
    "    ('imputer', SimpleImputer(strategy='median')),\n",
    "    ('scaler', StandardScaler())])\n",
    "\n",
    "#One hot encoder to transform categorial values into integers.\n",
    "\n",
    "categorical_transformer = Pipeline(steps=[\n",
    "    ('imputer', SimpleImputer(strategy='constant', fill_value='missing')),\n",
    "    ('onehot', OneHotEncoder(handle_unknown='ignore'))])"
   ]
  },
  {
   "cell_type": "code",
   "execution_count": 18,
   "metadata": {
    "execution": {
     "iopub.execute_input": "2021-02-22T17:56:02.241855Z",
     "iopub.status.busy": "2021-02-22T17:56:02.241202Z",
     "iopub.status.idle": "2021-02-22T17:56:02.249603Z",
     "shell.execute_reply": "2021-02-22T17:56:02.248942Z"
    },
    "papermill": {
     "duration": 0.036052,
     "end_time": "2021-02-22T17:56:02.249754",
     "exception": false,
     "start_time": "2021-02-22T17:56:02.213702",
     "status": "completed"
    },
    "tags": []
   },
   "outputs": [],
   "source": [
    "#Select les columns numeric \n",
    "#Select les columns categoric \n",
    "integer_features = list(X.columns[X.dtypes == 'int64'])\n",
    "continuous_features = list(X.columns[X.dtypes == 'float64'])\n",
    "categorical_features = list(X.columns[X.dtypes == 'object'])\n",
    "numeric_features = integer_features + continuous_features \n",
    "\n",
    "\n",
    "from sklearn.compose import ColumnTransformer\n",
    "preprocessor = ColumnTransformer(\n",
    "    transformers=[\n",
    "        ('num', numeric_transformer, numeric_features),\n",
    "        ('cat', categorical_transformer, categorical_features)])"
   ]
  },
  {
   "cell_type": "markdown",
   "metadata": {
    "papermill": {
     "duration": 0.019737,
     "end_time": "2021-02-22T17:56:02.289550",
     "exception": false,
     "start_time": "2021-02-22T17:56:02.269813",
     "status": "completed"
    },
    "tags": []
   },
   "source": [
    "## Model selection"
   ]
  },
  {
   "cell_type": "code",
   "execution_count": 19,
   "metadata": {
    "execution": {
     "iopub.execute_input": "2021-02-22T17:56:02.341823Z",
     "iopub.status.busy": "2021-02-22T17:56:02.341155Z",
     "iopub.status.idle": "2021-02-22T17:59:03.107551Z",
     "shell.execute_reply": "2021-02-22T17:59:03.108104Z"
    },
    "papermill": {
     "duration": 180.797927,
     "end_time": "2021-02-22T17:59:03.108345",
     "exception": false,
     "start_time": "2021-02-22T17:56:02.310418",
     "status": "completed"
    },
    "tags": []
   },
   "outputs": [
    {
     "name": "stdout",
     "output_type": "stream",
     "text": [
      "KNeighborsClassifier(n_neighbors=3)\n",
      "model score: 0.088\n",
      "SVC(C=0.025, probability=True)\n",
      "model score: 0.098\n",
      "DecisionTreeClassifier()\n",
      "model score: 0.107\n",
      "RandomForestClassifier()\n",
      "model score: 0.107\n",
      "AdaBoostClassifier()\n",
      "model score: 0.086\n",
      "GradientBoostingClassifier()\n",
      "model score: 0.107\n",
      "LinearDiscriminantAnalysis()\n",
      "model score: 0.099\n",
      "XGBRegressor(base_score=0.5, booster='gbtree', colsample_bylevel=1,\n",
      "             colsample_bynode=1, colsample_bytree=1, gamma=0, gpu_id=-1,\n",
      "             importance_type='gain', interaction_constraints='',\n",
      "             learning_rate=0.300000012, max_delta_step=0, max_depth=6,\n",
      "             min_child_weight=1, missing=nan, monotone_constraints='()',\n",
      "             n_estimators=100, n_jobs=4, num_parallel_tree=1, random_state=0,\n",
      "             reg_alpha=0, reg_lambda=1, scale_pos_weight=1, subsample=1,\n",
      "             tree_method='exact', validate_parameters=1, verbosity=None)\n",
      "model score: 0.376\n"
     ]
    }
   ],
   "source": [
    "from sklearn.metrics import accuracy_score, log_loss\n",
    "from sklearn.neighbors import KNeighborsClassifier\n",
    "from sklearn.svm import SVC, LinearSVC, NuSVC\n",
    "from sklearn.tree import DecisionTreeClassifier\n",
    "from sklearn.ensemble import RandomForestClassifier, AdaBoostClassifier, GradientBoostingClassifier\n",
    "from sklearn.discriminant_analysis import LinearDiscriminantAnalysis\n",
    "from sklearn.discriminant_analysis import QuadraticDiscriminantAnalysis\n",
    "from xgboost import XGBRegressor\n",
    "classifiers = [\n",
    "    KNeighborsClassifier(3),\n",
    "    SVC(kernel=\"rbf\", C=0.025, probability=True),\n",
    "    DecisionTreeClassifier(),\n",
    "    RandomForestClassifier(),\n",
    "    AdaBoostClassifier(),\n",
    "    GradientBoostingClassifier(), \n",
    "    LinearDiscriminantAnalysis(), \n",
    "    XGBRegressor()\n",
    "    ]\n",
    "pipes= []\n",
    "for classifier in classifiers:\n",
    "    pipe = Pipeline(steps=[('preprocessor', preprocessor),\n",
    "                      ('classifier', classifier)])\n",
    "    pipe.fit(X_train, y_train)  \n",
    "    pipes.append(pipe) \n",
    "    print(classifier)\n",
    "    print(\"model score: %.3f\" % pipe.score(X_test, y_test))\n"
   ]
  },
  {
   "cell_type": "code",
   "execution_count": null,
   "metadata": {
    "papermill": {
     "duration": 0.022462,
     "end_time": "2021-02-22T17:59:03.155937",
     "exception": false,
     "start_time": "2021-02-22T17:59:03.133475",
     "status": "completed"
    },
    "tags": []
   },
   "outputs": [],
   "source": [
    "\n"
   ]
  },
  {
   "cell_type": "code",
   "execution_count": null,
   "metadata": {
    "papermill": {
     "duration": 0.022857,
     "end_time": "2021-02-22T17:59:03.201628",
     "exception": false,
     "start_time": "2021-02-22T17:59:03.178771",
     "status": "completed"
    },
    "tags": []
   },
   "outputs": [],
   "source": []
  }
 ],
 "metadata": {
  "kernelspec": {
   "display_name": "Python 3",
   "language": "python",
   "name": "python3"
  },
  "language_info": {
   "codemirror_mode": {
    "name": "ipython",
    "version": 3
   },
   "file_extension": ".py",
   "mimetype": "text/x-python",
   "name": "python",
   "nbconvert_exporter": "python",
   "pygments_lexer": "ipython3",
   "version": "3.7.9"
  },
  "papermill": {
   "default_parameters": {},
   "duration": 194.84717,
   "end_time": "2021-02-22T17:59:03.934606",
   "environment_variables": {},
   "exception": null,
   "input_path": "__notebook__.ipynb",
   "output_path": "__notebook__.ipynb",
   "parameters": {},
   "start_time": "2021-02-22T17:55:49.087436",
   "version": "2.2.2"
  }
 },
 "nbformat": 4,
 "nbformat_minor": 4
}
