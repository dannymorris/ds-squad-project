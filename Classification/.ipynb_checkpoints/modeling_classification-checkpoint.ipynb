{
 "cells": [
  {
   "cell_type": "code",
   "execution_count": 35,
   "metadata": {},
   "outputs": [],
   "source": [
    "import pandas as pd\n",
    "import datetime"
   ]
  },
  {
   "cell_type": "code",
   "execution_count": 103,
   "metadata": {},
   "outputs": [],
   "source": [
    "df= pd.read_csv('df_nbh.csv')"
   ]
  },
  {
   "cell_type": "code",
   "execution_count": 104,
   "metadata": {},
   "outputs": [
    {
     "data": {
      "text/html": [
       "<div>\n",
       "<style scoped>\n",
       "    .dataframe tbody tr th:only-of-type {\n",
       "        vertical-align: middle;\n",
       "    }\n",
       "\n",
       "    .dataframe tbody tr th {\n",
       "        vertical-align: top;\n",
       "    }\n",
       "\n",
       "    .dataframe thead th {\n",
       "        text-align: right;\n",
       "    }\n",
       "</style>\n",
       "<table border=\"1\" class=\"dataframe\">\n",
       "  <thead>\n",
       "    <tr style=\"text-align: right;\">\n",
       "      <th></th>\n",
       "      <th>incident_datetime</th>\n",
       "      <th>neighborhood</th>\n",
       "      <th>day_of_week</th>\n",
       "      <th>hour_of_day</th>\n",
       "      <th>incident_id</th>\n",
       "    </tr>\n",
       "  </thead>\n",
       "  <tbody>\n",
       "    <tr>\n",
       "      <th>0</th>\n",
       "      <td>2011-06-07 00:00:00</td>\n",
       "      <td>NaN</td>\n",
       "      <td>Tuesday</td>\n",
       "      <td>12</td>\n",
       "      <td>14</td>\n",
       "    </tr>\n",
       "    <tr>\n",
       "      <th>1</th>\n",
       "      <td>2011-05-28 00:00:00</td>\n",
       "      <td>NaN</td>\n",
       "      <td>Saturday</td>\n",
       "      <td>12</td>\n",
       "      <td>12</td>\n",
       "    </tr>\n",
       "    <tr>\n",
       "      <th>2</th>\n",
       "      <td>2011-06-03 00:00:00</td>\n",
       "      <td>NaN</td>\n",
       "      <td>Friday</td>\n",
       "      <td>12</td>\n",
       "      <td>12</td>\n",
       "    </tr>\n",
       "    <tr>\n",
       "      <th>3</th>\n",
       "      <td>2011-06-12 00:00:00</td>\n",
       "      <td>NaN</td>\n",
       "      <td>Sunday</td>\n",
       "      <td>12</td>\n",
       "      <td>12</td>\n",
       "    </tr>\n",
       "    <tr>\n",
       "      <th>4</th>\n",
       "      <td>2011-05-30 00:00:00</td>\n",
       "      <td>NaN</td>\n",
       "      <td>Monday</td>\n",
       "      <td>11</td>\n",
       "      <td>11</td>\n",
       "    </tr>\n",
       "  </tbody>\n",
       "</table>\n",
       "</div>"
      ],
      "text/plain": [
       "     incident_datetime neighborhood day_of_week  hour_of_day  incident_id\n",
       "0  2011-06-07 00:00:00          NaN     Tuesday           12           14\n",
       "1  2011-05-28 00:00:00          NaN    Saturday           12           12\n",
       "2  2011-06-03 00:00:00          NaN      Friday           12           12\n",
       "3  2011-06-12 00:00:00          NaN      Sunday           12           12\n",
       "4  2011-05-30 00:00:00          NaN      Monday           11           11"
      ]
     },
     "execution_count": 104,
     "metadata": {},
     "output_type": "execute_result"
    }
   ],
   "source": [
    "df.head()"
   ]
  },
  {
   "cell_type": "code",
   "execution_count": 105,
   "metadata": {},
   "outputs": [],
   "source": [
    "df.columns=['date', 'nbh', 'day', 'hour', 'count']\n",
    "df[\"day\"] = df[\"day\"].replace([\"Monday\", \"Tuesday\", \"Wednesday\", \"Thursday\", \"Friday\", \"Saturday\", \"Sunday\"], [\"MONDAY\", \"TUESDAY\", \"WEDNESDAY\", \"THURSDAY\", \"FRIDAY\", \"SATURDAY\", \"SUNDAY\"])"
   ]
  },
  {
   "cell_type": "code",
   "execution_count": 106,
   "metadata": {},
   "outputs": [
    {
     "data": {
      "text/plain": [
       "array([nan, 'North Park', 'Lovejoy', 'Pratt-Willert', 'Riverside',\n",
       "       'Broadway Fillmore', 'Elmwood Bryant', 'Central', 'West Hertel',\n",
       "       'Allentown', 'Elmwood Bidwell', 'Genesee-Moselle', 'Kaisertown',\n",
       "       'University Heights', 'Kensington-Bailey', 'West Side',\n",
       "       'Masten Park', 'Upper West Side', 'Lower West Side', 'Black Rock',\n",
       "       'Fruit Belt', 'Schiller Park', 'Fillmore-Leroy',\n",
       "       'Seneca-Cazenovia', 'Kenfield', 'Parkside', 'Hopkins-Tifft',\n",
       "       'Central Park', 'South Park', 'Ellicott', 'MLK Park',\n",
       "       'Grant-Amherst', 'Delavan Grider', 'Hamlin Park', 'Seneca Babcock',\n",
       "       'First Ward'], dtype=object)"
      ]
     },
     "execution_count": 106,
     "metadata": {},
     "output_type": "execute_result"
    }
   ],
   "source": [
    "df['nbh'].unique()"
   ]
  },
  {
   "cell_type": "code",
   "execution_count": null,
   "metadata": {},
   "outputs": [],
   "source": [
    "data[\"nbh\"] = data[\"nbh\"].replace([\"'North Park', 'Lovejoy', 'Pratt-Willert', 'Riverside',\n",
    "       'Broadway Fillmore', 'Elmwood Bryant', 'Central', 'West Hertel',\n",
    "       'Allentown', 'Elmwood Bidwell', 'Genesee-Moselle', 'Kaisertown',\n",
    "       'University Heights', 'Kensington-Bailey', 'West Side',\n",
    "       'Masten Park', 'Upper West Side', 'Lower West Side', 'Black Rock',\n",
    "       'Fruit Belt', 'Schiller Park', 'Fillmore-Leroy',\n",
    "       'Seneca-Cazenovia', 'Kenfield', 'Parkside', 'Hopkins-Tifft',\n",
    "       'Central Park', 'South Park', 'Ellicott', 'MLK Park',\n",
    "       'Grant-Amherst', 'Delavan Grider', 'Hamlin Park', 'Seneca Babcock',\n",
    "       'First Ward' ], ['NorthPark', 'Lovejoy', 'PrattWillert', 'Riverside',\n",
    "       'BroadwayFillmore', 'ElmwoodBryant', 'Central', 'WestHertel',\n",
    "       'Allentown', 'ElmwoodBidwell', 'GeneseeMoselle', 'Kaisertown',\n",
    "       'UniversityHeights', 'KensingtonBailey', 'WestSide',\n",
    "       'MastenPark', 'UpperWestSide', 'LowerWestSide', 'BlackRock',\n",
    "       'FruitBelt', 'SchillerPark', 'FillmoreLeroy',\n",
    "       'SenecaCazenovia', 'Kenfield', 'Parkside', 'HopkinsTifft',\n",
    "       'CentralPark', 'SouthPark', 'Ellicott', 'MLKPark',\n",
    "       'GrantAmherst', 'DelavanGrider', 'HamlinPark', 'SenecaBabcock',\n",
    "       'FirstWard'])"
   ]
  },
  {
   "cell_type": "code",
   "execution_count": 107,
   "metadata": {},
   "outputs": [
    {
     "data": {
      "text/plain": [
       "date     5841\n",
       "nbh        35\n",
       "day         7\n",
       "hour       24\n",
       "count      14\n",
       "dtype: int64"
      ]
     },
     "execution_count": 107,
     "metadata": {},
     "output_type": "execute_result"
    }
   ],
   "source": [
    "df.nunique()"
   ]
  },
  {
   "cell_type": "code",
   "execution_count": 108,
   "metadata": {},
   "outputs": [
    {
     "data": {
      "text/plain": [
       "(250725, 5)"
      ]
     },
     "execution_count": 108,
     "metadata": {},
     "output_type": "execute_result"
    }
   ],
   "source": [
    "df.shape"
   ]
  },
  {
   "cell_type": "code",
   "execution_count": 109,
   "metadata": {},
   "outputs": [],
   "source": [
    "df = df.dropna()"
   ]
  },
  {
   "cell_type": "code",
   "execution_count": 110,
   "metadata": {},
   "outputs": [
    {
     "data": {
      "text/plain": [
       "(248407, 5)"
      ]
     },
     "execution_count": 110,
     "metadata": {},
     "output_type": "execute_result"
    }
   ],
   "source": [
    "df.shape"
   ]
  },
  {
   "cell_type": "code",
   "execution_count": 111,
   "metadata": {},
   "outputs": [
    {
     "data": {
      "text/html": [
       "<div>\n",
       "<style scoped>\n",
       "    .dataframe tbody tr th:only-of-type {\n",
       "        vertical-align: middle;\n",
       "    }\n",
       "\n",
       "    .dataframe tbody tr th {\n",
       "        vertical-align: top;\n",
       "    }\n",
       "\n",
       "    .dataframe thead th {\n",
       "        text-align: right;\n",
       "    }\n",
       "</style>\n",
       "<table border=\"1\" class=\"dataframe\">\n",
       "  <thead>\n",
       "    <tr style=\"text-align: right;\">\n",
       "      <th></th>\n",
       "      <th>date</th>\n",
       "      <th>nbh</th>\n",
       "      <th>day</th>\n",
       "      <th>hour</th>\n",
       "      <th>count</th>\n",
       "    </tr>\n",
       "  </thead>\n",
       "  <tbody>\n",
       "    <tr>\n",
       "      <th>5</th>\n",
       "      <td>2006-01-01 00:00:00</td>\n",
       "      <td>North Park</td>\n",
       "      <td>SUNDAY</td>\n",
       "      <td>0</td>\n",
       "      <td>10</td>\n",
       "    </tr>\n",
       "    <tr>\n",
       "      <th>14</th>\n",
       "      <td>2011-05-07 00:00:00</td>\n",
       "      <td>Lovejoy</td>\n",
       "      <td>SATURDAY</td>\n",
       "      <td>19</td>\n",
       "      <td>8</td>\n",
       "    </tr>\n",
       "    <tr>\n",
       "      <th>27</th>\n",
       "      <td>2016-10-21 00:00:00</td>\n",
       "      <td>Pratt-Willert</td>\n",
       "      <td>FRIDAY</td>\n",
       "      <td>16</td>\n",
       "      <td>8</td>\n",
       "    </tr>\n",
       "    <tr>\n",
       "      <th>28</th>\n",
       "      <td>2008-07-31 00:00:00</td>\n",
       "      <td>Riverside</td>\n",
       "      <td>THURSDAY</td>\n",
       "      <td>0</td>\n",
       "      <td>7</td>\n",
       "    </tr>\n",
       "    <tr>\n",
       "      <th>45</th>\n",
       "      <td>2006-07-26 00:00:00</td>\n",
       "      <td>Broadway Fillmore</td>\n",
       "      <td>WEDNESDAY</td>\n",
       "      <td>0</td>\n",
       "      <td>6</td>\n",
       "    </tr>\n",
       "  </tbody>\n",
       "</table>\n",
       "</div>"
      ],
      "text/plain": [
       "                   date                nbh        day  hour  count\n",
       "5   2006-01-01 00:00:00         North Park     SUNDAY     0     10\n",
       "14  2011-05-07 00:00:00            Lovejoy   SATURDAY    19      8\n",
       "27  2016-10-21 00:00:00      Pratt-Willert     FRIDAY    16      8\n",
       "28  2008-07-31 00:00:00          Riverside   THURSDAY     0      7\n",
       "45  2006-07-26 00:00:00  Broadway Fillmore  WEDNESDAY     0      6"
      ]
     },
     "execution_count": 111,
     "metadata": {},
     "output_type": "execute_result"
    }
   ],
   "source": [
    "df.head()"
   ]
  },
  {
   "cell_type": "markdown",
   "metadata": {},
   "source": [
    "#### create dummies variables weekdays, hours andn neighbourhood"
   ]
  },
  {
   "cell_type": "code",
   "execution_count": 112,
   "metadata": {},
   "outputs": [],
   "source": [
    "dummy_weekday = pd.get_dummies(df['day'])\n",
    "\n",
    "dummy_weekday.columns = df['day'].unique()\n",
    "\n",
    "df = pd.concat([df,dummy_weekday], axis=1)\n",
    "\n",
    "dummy_hour= pd.get_dummies(df['hour'])\n",
    "\n",
    "dummy_hour.columns = df['hour'].unique()\n",
    "\n",
    "df = pd.concat([df,dummy_hour], axis=1)\n",
    "\n",
    "dummy_nbh= pd.get_dummies(df['nbh'])\n",
    "\n",
    "dummy_nbh.columns = df['nbh'].unique()\n",
    "\n",
    "df = pd.concat([df,dummy_nbh], axis=1)"
   ]
  },
  {
   "cell_type": "code",
   "execution_count": 120,
   "metadata": {},
   "outputs": [],
   "source": [
    "df= df.drop(['day', 'hour', 'nbh', 'date'], axis=1)"
   ]
  },
  {
   "cell_type": "code",
   "execution_count": 121,
   "metadata": {},
   "outputs": [
    {
     "data": {
      "text/html": [
       "<div>\n",
       "<style scoped>\n",
       "    .dataframe tbody tr th:only-of-type {\n",
       "        vertical-align: middle;\n",
       "    }\n",
       "\n",
       "    .dataframe tbody tr th {\n",
       "        vertical-align: top;\n",
       "    }\n",
       "\n",
       "    .dataframe thead th {\n",
       "        text-align: right;\n",
       "    }\n",
       "</style>\n",
       "<table border=\"1\" class=\"dataframe\">\n",
       "  <thead>\n",
       "    <tr style=\"text-align: right;\">\n",
       "      <th></th>\n",
       "      <th>count</th>\n",
       "      <th>SUNDAY</th>\n",
       "      <th>SATURDAY</th>\n",
       "      <th>FRIDAY</th>\n",
       "      <th>THURSDAY</th>\n",
       "      <th>WEDNESDAY</th>\n",
       "      <th>MONDAY</th>\n",
       "      <th>TUESDAY</th>\n",
       "      <th>0</th>\n",
       "      <th>19</th>\n",
       "      <th>...</th>\n",
       "      <th>Hopkins-Tifft</th>\n",
       "      <th>Central Park</th>\n",
       "      <th>South Park</th>\n",
       "      <th>Ellicott</th>\n",
       "      <th>MLK Park</th>\n",
       "      <th>Grant-Amherst</th>\n",
       "      <th>Delavan Grider</th>\n",
       "      <th>Hamlin Park</th>\n",
       "      <th>Seneca Babcock</th>\n",
       "      <th>First Ward</th>\n",
       "    </tr>\n",
       "  </thead>\n",
       "  <tbody>\n",
       "    <tr>\n",
       "      <th>5</th>\n",
       "      <td>10</td>\n",
       "      <td>0</td>\n",
       "      <td>0</td>\n",
       "      <td>0</td>\n",
       "      <td>1</td>\n",
       "      <td>0</td>\n",
       "      <td>0</td>\n",
       "      <td>0</td>\n",
       "      <td>1</td>\n",
       "      <td>0</td>\n",
       "      <td>...</td>\n",
       "      <td>0</td>\n",
       "      <td>0</td>\n",
       "      <td>0</td>\n",
       "      <td>0</td>\n",
       "      <td>0</td>\n",
       "      <td>0</td>\n",
       "      <td>0</td>\n",
       "      <td>0</td>\n",
       "      <td>0</td>\n",
       "      <td>0</td>\n",
       "    </tr>\n",
       "    <tr>\n",
       "      <th>14</th>\n",
       "      <td>8</td>\n",
       "      <td>0</td>\n",
       "      <td>0</td>\n",
       "      <td>1</td>\n",
       "      <td>0</td>\n",
       "      <td>0</td>\n",
       "      <td>0</td>\n",
       "      <td>0</td>\n",
       "      <td>0</td>\n",
       "      <td>0</td>\n",
       "      <td>...</td>\n",
       "      <td>0</td>\n",
       "      <td>0</td>\n",
       "      <td>0</td>\n",
       "      <td>0</td>\n",
       "      <td>0</td>\n",
       "      <td>0</td>\n",
       "      <td>0</td>\n",
       "      <td>0</td>\n",
       "      <td>0</td>\n",
       "      <td>0</td>\n",
       "    </tr>\n",
       "    <tr>\n",
       "      <th>27</th>\n",
       "      <td>8</td>\n",
       "      <td>1</td>\n",
       "      <td>0</td>\n",
       "      <td>0</td>\n",
       "      <td>0</td>\n",
       "      <td>0</td>\n",
       "      <td>0</td>\n",
       "      <td>0</td>\n",
       "      <td>0</td>\n",
       "      <td>0</td>\n",
       "      <td>...</td>\n",
       "      <td>1</td>\n",
       "      <td>0</td>\n",
       "      <td>0</td>\n",
       "      <td>0</td>\n",
       "      <td>0</td>\n",
       "      <td>0</td>\n",
       "      <td>0</td>\n",
       "      <td>0</td>\n",
       "      <td>0</td>\n",
       "      <td>0</td>\n",
       "    </tr>\n",
       "    <tr>\n",
       "      <th>28</th>\n",
       "      <td>7</td>\n",
       "      <td>0</td>\n",
       "      <td>0</td>\n",
       "      <td>0</td>\n",
       "      <td>0</td>\n",
       "      <td>1</td>\n",
       "      <td>0</td>\n",
       "      <td>0</td>\n",
       "      <td>1</td>\n",
       "      <td>0</td>\n",
       "      <td>...</td>\n",
       "      <td>0</td>\n",
       "      <td>1</td>\n",
       "      <td>0</td>\n",
       "      <td>0</td>\n",
       "      <td>0</td>\n",
       "      <td>0</td>\n",
       "      <td>0</td>\n",
       "      <td>0</td>\n",
       "      <td>0</td>\n",
       "      <td>0</td>\n",
       "    </tr>\n",
       "    <tr>\n",
       "      <th>45</th>\n",
       "      <td>6</td>\n",
       "      <td>0</td>\n",
       "      <td>0</td>\n",
       "      <td>0</td>\n",
       "      <td>0</td>\n",
       "      <td>0</td>\n",
       "      <td>0</td>\n",
       "      <td>1</td>\n",
       "      <td>1</td>\n",
       "      <td>0</td>\n",
       "      <td>...</td>\n",
       "      <td>0</td>\n",
       "      <td>0</td>\n",
       "      <td>0</td>\n",
       "      <td>0</td>\n",
       "      <td>0</td>\n",
       "      <td>0</td>\n",
       "      <td>0</td>\n",
       "      <td>0</td>\n",
       "      <td>0</td>\n",
       "      <td>0</td>\n",
       "    </tr>\n",
       "  </tbody>\n",
       "</table>\n",
       "<p>5 rows × 67 columns</p>\n",
       "</div>"
      ],
      "text/plain": [
       "    count  SUNDAY  SATURDAY  FRIDAY  THURSDAY  WEDNESDAY  MONDAY  TUESDAY  0  \\\n",
       "5      10       0         0       0         1          0       0        0  1   \n",
       "14      8       0         0       1         0          0       0        0  0   \n",
       "27      8       1         0       0         0          0       0        0  0   \n",
       "28      7       0         0       0         0          1       0        0  1   \n",
       "45      6       0         0       0         0          0       0        1  1   \n",
       "\n",
       "    19  ...  Hopkins-Tifft  Central Park  South Park  Ellicott  MLK Park  \\\n",
       "5    0  ...              0             0           0         0         0   \n",
       "14   0  ...              0             0           0         0         0   \n",
       "27   0  ...              1             0           0         0         0   \n",
       "28   0  ...              0             1           0         0         0   \n",
       "45   0  ...              0             0           0         0         0   \n",
       "\n",
       "    Grant-Amherst  Delavan Grider  Hamlin Park  Seneca Babcock  First Ward  \n",
       "5               0               0            0               0           0  \n",
       "14              0               0            0               0           0  \n",
       "27              0               0            0               0           0  \n",
       "28              0               0            0               0           0  \n",
       "45              0               0            0               0           0  \n",
       "\n",
       "[5 rows x 67 columns]"
      ]
     },
     "execution_count": 121,
     "metadata": {},
     "output_type": "execute_result"
    }
   ],
   "source": [
    "df.head()"
   ]
  },
  {
   "cell_type": "markdown",
   "metadata": {},
   "source": [
    "## Kcross validation"
   ]
  },
  {
   "cell_type": "code",
   "execution_count": 119,
   "metadata": {},
   "outputs": [],
   "source": [
    "from sklearn.model_selection import KFold # import KFold\n",
    "from sklearn.metrics import accuracy_score #To calculate accuracy\n",
    "from sklearn.ensemble import RandomForestClassifier\n",
    "from sklearn.neighbors import KNeighborsClassifier\n",
    "from sklearn.preprocessing import StandardScaler"
   ]
  },
  {
   "cell_type": "code",
   "execution_count": 122,
   "metadata": {},
   "outputs": [],
   "source": [
    "def cross_validation_XG_classifier(model):\n",
    "    accuracy = []\n",
    "    for train_index, test_index in kf.split(df):\n",
    "        # print(\"TRAIN:\", train_index, \"TEST:\", test_index)\n",
    "        #train part\n",
    "        X_train = np.array(df.drop('count', axis = 1))[train_index]\n",
    "        y_train = np.array(df.count)[train_index]\n",
    "        #test part\n",
    "        X_test = np.array(df.drop('count', axis = 1))[test_index]\n",
    "        y_test = np.array(df.count)[test_index]\n",
    "\n",
    "        model.fit(X_train, y_train)\n",
    "\n",
    "        y_pred = model.predict(X_test)\n",
    "\n",
    "        y_pred = my_ceil(np.array(y_pred))\n",
    "\n",
    "        accuracy.append(accuracy_score(y_pred, y_test))\n",
    "    return np.average(accuracy)\n"
   ]
  },
  {
   "cell_type": "code",
   "execution_count": 124,
   "metadata": {},
   "outputs": [],
   "source": [
    "# Converts floats to integers for classification\n",
    "def my_ceil(predictions):\n",
    "  for i in range(len(predictions)):\n",
    "\n",
    "    if predictions[i]%1 <= +0.5:\n",
    "      predictions[i] = int(predictions[i])\n",
    "    else:\n",
    "      predictions[i] = int(predictions[i]) + 1\n",
    "  return predictions\n",
    "\n",
    "\n",
    "def cross_validation_Lregressor(formula):\n",
    "    accuracy = []\n",
    "    for train_index, test_index in kf.split(df):\n",
    "    \n",
    "        #train part\n",
    "        train = df.iloc[train_index]\n",
    "        #test part\n",
    "        test = df.iloc[test_index]\n",
    "\n",
    "        model_lr = formula\n",
    "        result_lr = smf.ols(model_lr, data = train).fit()\n",
    "\n",
    "        y_pred = np.array(result_lr.predict(test))\n",
    "\n",
    "        y_pred = my_ceil(y_pred)\n",
    "\n",
    "        accuracy.append(accuracy_score(y_pred, test.Score))\n",
    "   \n",
    "    return np.average(accuracy)"
   ]
  },
  {
   "cell_type": "markdown",
   "metadata": {},
   "source": [
    "## Models "
   ]
  },
  {
   "cell_type": "markdown",
   "metadata": {},
   "source": [
    "### Linear regression"
   ]
  },
  {
   "cell_type": "code",
   "execution_count": 125,
   "metadata": {},
   "outputs": [],
   "source": [
    "import statsmodels.formula.api as smf\n",
    "import statsmodels.api as sm"
   ]
  },
  {
   "cell_type": "code",
   "execution_count": 133,
   "metadata": {},
   "outputs": [],
   "source": [
    "#all_columns = \"+\".join(df.columns.difference([\"count\"]))\n",
    "values = ','.join([str(i) for i in df.columns.difference([\"count\"])])\n",
    "#values = \",\".join(value_list)"
   ]
  },
  {
   "cell_type": "code",
   "execution_count": 134,
   "metadata": {},
   "outputs": [
    {
     "ename": "SyntaxError",
     "evalue": "invalid syntax (<unknown>, line 1)",
     "output_type": "error",
     "traceback": [
      "Traceback \u001b[1;36m(most recent call last)\u001b[0m:\n",
      "  File \u001b[0;32m\"C:\\Users\\Nisrine\\Anaconda3\\lib\\site-packages\\IPython\\core\\interactiveshell.py\"\u001b[0m, line \u001b[0;32m3326\u001b[0m, in \u001b[0;35mrun_code\u001b[0m\n    exec(code_obj, self.user_global_ns, self.user_ns)\n",
      "  File \u001b[0;32m\"<ipython-input-134-7fca439e6d44>\"\u001b[0m, line \u001b[0;32m2\u001b[0m, in \u001b[0;35m<module>\u001b[0m\n    result_lr = smf.ols(model_lr, data = df).fit()\n",
      "  File \u001b[0;32m\"C:\\Users\\Nisrine\\Anaconda3\\lib\\site-packages\\statsmodels\\base\\model.py\"\u001b[0m, line \u001b[0;32m169\u001b[0m, in \u001b[0;35mfrom_formula\u001b[0m\n    missing=missing)\n",
      "  File \u001b[0;32m\"C:\\Users\\Nisrine\\Anaconda3\\lib\\site-packages\\statsmodels\\formula\\formulatools.py\"\u001b[0m, line \u001b[0;32m65\u001b[0m, in \u001b[0;35mhandle_formula_data\u001b[0m\n    NA_action=na_action)\n",
      "  File \u001b[0;32m\"C:\\Users\\Nisrine\\Anaconda3\\lib\\site-packages\\patsy\\highlevel.py\"\u001b[0m, line \u001b[0;32m310\u001b[0m, in \u001b[0;35mdmatrices\u001b[0m\n    NA_action, return_type)\n",
      "  File \u001b[0;32m\"C:\\Users\\Nisrine\\Anaconda3\\lib\\site-packages\\patsy\\highlevel.py\"\u001b[0m, line \u001b[0;32m165\u001b[0m, in \u001b[0;35m_do_highlevel_design\u001b[0m\n    NA_action)\n",
      "  File \u001b[0;32m\"C:\\Users\\Nisrine\\Anaconda3\\lib\\site-packages\\patsy\\highlevel.py\"\u001b[0m, line \u001b[0;32m70\u001b[0m, in \u001b[0;35m_try_incr_builders\u001b[0m\n    NA_action)\n",
      "  File \u001b[0;32m\"C:\\Users\\Nisrine\\Anaconda3\\lib\\site-packages\\patsy\\build.py\"\u001b[0m, line \u001b[0;32m689\u001b[0m, in \u001b[0;35mdesign_matrix_builders\u001b[0m\n    factor_states = _factors_memorize(all_factors, data_iter_maker, eval_env)\n",
      "  File \u001b[0;32m\"C:\\Users\\Nisrine\\Anaconda3\\lib\\site-packages\\patsy\\build.py\"\u001b[0m, line \u001b[0;32m354\u001b[0m, in \u001b[0;35m_factors_memorize\u001b[0m\n    which_pass = factor.memorize_passes_needed(state, eval_env)\n",
      "  File \u001b[0;32m\"C:\\Users\\Nisrine\\Anaconda3\\lib\\site-packages\\patsy\\eval.py\"\u001b[0m, line \u001b[0;32m474\u001b[0m, in \u001b[0;35mmemorize_passes_needed\u001b[0m\n    subset_names = [name for name in ast_names(self.code)\n",
      "  File \u001b[0;32m\"C:\\Users\\Nisrine\\Anaconda3\\lib\\site-packages\\patsy\\eval.py\"\u001b[0m, line \u001b[0;32m474\u001b[0m, in \u001b[0;35m<listcomp>\u001b[0m\n    subset_names = [name for name in ast_names(self.code)\n",
      "  File \u001b[0;32m\"C:\\Users\\Nisrine\\Anaconda3\\lib\\site-packages\\patsy\\eval.py\"\u001b[0m, line \u001b[0;32m105\u001b[0m, in \u001b[0;35mast_names\u001b[0m\n    for node in ast.walk(ast.parse(code)):\n",
      "\u001b[1;36m  File \u001b[1;32m\"C:\\Users\\Nisrine\\Anaconda3\\lib\\ast.py\"\u001b[1;36m, line \u001b[1;32m35\u001b[1;36m, in \u001b[1;35mparse\u001b[1;36m\u001b[0m\n\u001b[1;33m    return compile(source, filename, mode, PyCF_ONLY_AST)\u001b[0m\n",
      "\u001b[1;36m  File \u001b[1;32m\"<unknown>\"\u001b[1;36m, line \u001b[1;32m1\u001b[0m\n\u001b[1;33m    0, 1, 2, 3, 4, 5, 6, 7, 8, 9, 10, 11, 12, 13, 14, 15, 16, 17, 18, 19, 20, 21, 22, 23, Allentown, Black Rock, Broadway Fillmore, Central, Central Park, Delavan Grider, Ellicott, Elmwood Bidwell, Elmwood Bryant, FRIDAY, Fillmore\u001b[0m\n\u001b[1;37m                                                                                                              ^\u001b[0m\n\u001b[1;31mSyntaxError\u001b[0m\u001b[1;31m:\u001b[0m invalid syntax\n"
     ]
    }
   ],
   "source": [
    "model_lr = \"count ~\" + values\n",
    "result_lr = smf.ols(model_lr, data = df).fit()\n",
    "\n",
    "print(result_lr.summary())"
   ]
  },
  {
   "cell_type": "code",
   "execution_count": null,
   "metadata": {},
   "outputs": [],
   "source": []
  }
 ],
 "metadata": {
  "kernelspec": {
   "display_name": "Python 3",
   "language": "python",
   "name": "python3"
  },
  "language_info": {
   "codemirror_mode": {
    "name": "ipython",
    "version": 3
   },
   "file_extension": ".py",
   "mimetype": "text/x-python",
   "name": "python",
   "nbconvert_exporter": "python",
   "pygments_lexer": "ipython3",
   "version": "3.7.4"
  }
 },
 "nbformat": 4,
 "nbformat_minor": 2
}
