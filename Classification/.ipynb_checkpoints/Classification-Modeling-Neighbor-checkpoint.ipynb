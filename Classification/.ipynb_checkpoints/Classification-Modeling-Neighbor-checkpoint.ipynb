{
 "cells": [
  {
   "cell_type": "code",
   "execution_count": 23,
   "metadata": {},
   "outputs": [],
   "source": [
    "import pandas as pd\n",
    "import datetime\n",
    "import numpy as np"
   ]
  },
  {
   "cell_type": "code",
   "execution_count": 93,
   "metadata": {},
   "outputs": [
    {
     "data": {
      "text/html": [
       "<div>\n",
       "<style scoped>\n",
       "    .dataframe tbody tr th:only-of-type {\n",
       "        vertical-align: middle;\n",
       "    }\n",
       "\n",
       "    .dataframe tbody tr th {\n",
       "        vertical-align: top;\n",
       "    }\n",
       "\n",
       "    .dataframe thead th {\n",
       "        text-align: right;\n",
       "    }\n",
       "</style>\n",
       "<table border=\"1\" class=\"dataframe\">\n",
       "  <thead>\n",
       "    <tr style=\"text-align: right;\">\n",
       "      <th></th>\n",
       "      <th>incident_datetime</th>\n",
       "      <th>neighborhood</th>\n",
       "      <th>day_of_week</th>\n",
       "      <th>year</th>\n",
       "      <th>hour_of_day</th>\n",
       "      <th>incident_id</th>\n",
       "    </tr>\n",
       "  </thead>\n",
       "  <tbody>\n",
       "    <tr>\n",
       "      <th>0</th>\n",
       "      <td>2011-06-07 00:00:00</td>\n",
       "      <td>NaN</td>\n",
       "      <td>Tuesday</td>\n",
       "      <td>2011.0</td>\n",
       "      <td>12</td>\n",
       "      <td>14</td>\n",
       "    </tr>\n",
       "    <tr>\n",
       "      <th>1</th>\n",
       "      <td>2011-05-28 00:00:00</td>\n",
       "      <td>NaN</td>\n",
       "      <td>Saturday</td>\n",
       "      <td>2011.0</td>\n",
       "      <td>12</td>\n",
       "      <td>12</td>\n",
       "    </tr>\n",
       "    <tr>\n",
       "      <th>2</th>\n",
       "      <td>2011-06-03 00:00:00</td>\n",
       "      <td>NaN</td>\n",
       "      <td>Friday</td>\n",
       "      <td>2011.0</td>\n",
       "      <td>12</td>\n",
       "      <td>12</td>\n",
       "    </tr>\n",
       "    <tr>\n",
       "      <th>3</th>\n",
       "      <td>2011-06-12 00:00:00</td>\n",
       "      <td>NaN</td>\n",
       "      <td>Sunday</td>\n",
       "      <td>2011.0</td>\n",
       "      <td>12</td>\n",
       "      <td>12</td>\n",
       "    </tr>\n",
       "    <tr>\n",
       "      <th>4</th>\n",
       "      <td>2011-05-30 00:00:00</td>\n",
       "      <td>NaN</td>\n",
       "      <td>Monday</td>\n",
       "      <td>2011.0</td>\n",
       "      <td>11</td>\n",
       "      <td>11</td>\n",
       "    </tr>\n",
       "  </tbody>\n",
       "</table>\n",
       "</div>"
      ],
      "text/plain": [
       "     incident_datetime neighborhood day_of_week    year  hour_of_day  \\\n",
       "0  2011-06-07 00:00:00          NaN     Tuesday  2011.0           12   \n",
       "1  2011-05-28 00:00:00          NaN    Saturday  2011.0           12   \n",
       "2  2011-06-03 00:00:00          NaN      Friday  2011.0           12   \n",
       "3  2011-06-12 00:00:00          NaN      Sunday  2011.0           12   \n",
       "4  2011-05-30 00:00:00          NaN      Monday  2011.0           11   \n",
       "\n",
       "   incident_id  \n",
       "0           14  \n",
       "1           12  \n",
       "2           12  \n",
       "3           12  \n",
       "4           11  "
      ]
     },
     "execution_count": 93,
     "metadata": {},
     "output_type": "execute_result"
    }
   ],
   "source": [
    "df= pd.read_csv('df_nbh.csv')\n",
    "df.head()"
   ]
  },
  {
   "cell_type": "code",
   "execution_count": 94,
   "metadata": {},
   "outputs": [],
   "source": [
    "df = df.dropna()"
   ]
  },
  {
   "cell_type": "code",
   "execution_count": 95,
   "metadata": {},
   "outputs": [
    {
     "data": {
      "text/html": [
       "<div>\n",
       "<style scoped>\n",
       "    .dataframe tbody tr th:only-of-type {\n",
       "        vertical-align: middle;\n",
       "    }\n",
       "\n",
       "    .dataframe tbody tr th {\n",
       "        vertical-align: top;\n",
       "    }\n",
       "\n",
       "    .dataframe thead th {\n",
       "        text-align: right;\n",
       "    }\n",
       "</style>\n",
       "<table border=\"1\" class=\"dataframe\">\n",
       "  <thead>\n",
       "    <tr style=\"text-align: right;\">\n",
       "      <th></th>\n",
       "      <th>incident_datetime</th>\n",
       "      <th>neighborhood</th>\n",
       "      <th>day_of_week</th>\n",
       "      <th>year</th>\n",
       "      <th>hour_of_day</th>\n",
       "      <th>incident_id</th>\n",
       "    </tr>\n",
       "  </thead>\n",
       "  <tbody>\n",
       "    <tr>\n",
       "      <th>14</th>\n",
       "      <td>2011-05-07 00:00:00</td>\n",
       "      <td>Lovejoy</td>\n",
       "      <td>Saturday</td>\n",
       "      <td>2011</td>\n",
       "      <td>19</td>\n",
       "      <td>8</td>\n",
       "    </tr>\n",
       "    <tr>\n",
       "      <th>27</th>\n",
       "      <td>2016-10-21 00:00:00</td>\n",
       "      <td>Pratt-Willert</td>\n",
       "      <td>Friday</td>\n",
       "      <td>2016</td>\n",
       "      <td>16</td>\n",
       "      <td>8</td>\n",
       "    </tr>\n",
       "    <tr>\n",
       "      <th>47</th>\n",
       "      <td>2010-01-01 00:00:00</td>\n",
       "      <td>Central</td>\n",
       "      <td>Friday</td>\n",
       "      <td>2010</td>\n",
       "      <td>2</td>\n",
       "      <td>6</td>\n",
       "    </tr>\n",
       "    <tr>\n",
       "      <th>48</th>\n",
       "      <td>2010-07-01 00:00:00</td>\n",
       "      <td>Broadway Fillmore</td>\n",
       "      <td>Thursday</td>\n",
       "      <td>2010</td>\n",
       "      <td>0</td>\n",
       "      <td>6</td>\n",
       "    </tr>\n",
       "    <tr>\n",
       "      <th>49</th>\n",
       "      <td>2010-12-20 00:00:00</td>\n",
       "      <td>West Hertel</td>\n",
       "      <td>Monday</td>\n",
       "      <td>2010</td>\n",
       "      <td>20</td>\n",
       "      <td>6</td>\n",
       "    </tr>\n",
       "  </tbody>\n",
       "</table>\n",
       "</div>"
      ],
      "text/plain": [
       "      incident_datetime       neighborhood day_of_week  year  hour_of_day  \\\n",
       "14  2011-05-07 00:00:00            Lovejoy    Saturday  2011           19   \n",
       "27  2016-10-21 00:00:00      Pratt-Willert      Friday  2016           16   \n",
       "47  2010-01-01 00:00:00            Central      Friday  2010            2   \n",
       "48  2010-07-01 00:00:00  Broadway Fillmore    Thursday  2010            0   \n",
       "49  2010-12-20 00:00:00        West Hertel      Monday  2010           20   \n",
       "\n",
       "    incident_id  \n",
       "14            8  \n",
       "27            8  \n",
       "47            6  \n",
       "48            6  \n",
       "49            6  "
      ]
     },
     "execution_count": 95,
     "metadata": {},
     "output_type": "execute_result"
    }
   ],
   "source": [
    "#Data Series Start Date\t1/2009 (unreliable data before this date)\n",
    "df['year']= df['year'].fillna(0.0).astype(int)\n",
    "df= df[df.year>=2009]\n",
    "\n",
    "#df['year']= df['year'].astype(str)\n",
    "#df['hour_of_day']= df['hour_of_day'].astype(str)\n",
    "df.head()"
   ]
  },
  {
   "cell_type": "code",
   "execution_count": 96,
   "metadata": {},
   "outputs": [],
   "source": [
    "df.columns=['date', 'nbh', 'day', 'year','hour',  'nb']\n",
    "df[\"day\"] = df[\"day\"].replace([\"Monday\", \"Tuesday\", \"Wednesday\", \"Thursday\", \"Friday\", \"Saturday\", \"Sunday\"], [\"MONDAY\", \"TUESDAY\", \"WEDNESDAY\", \"THURSDAY\", \"FRIDAY\", \"SATURDAY\", \"SUNDAY\"])"
   ]
  },
  {
   "cell_type": "code",
   "execution_count": 97,
   "metadata": {},
   "outputs": [
    {
     "data": {
      "text/plain": [
       "array([2011, 2016, 2010, 2012, 2013, 2019, 2009, 2014, 2017, 2015, 2018,\n",
       "       2020, 2021])"
      ]
     },
     "execution_count": 97,
     "metadata": {},
     "output_type": "execute_result"
    }
   ],
   "source": [
    "df['year'].unique()\n"
   ]
  },
  {
   "cell_type": "code",
   "execution_count": 98,
   "metadata": {},
   "outputs": [],
   "source": [
    "df[\"nbh\"] = df[\"nbh\"].replace(['North Park', 'Lovejoy', 'Pratt-Willert', 'Riverside',\n",
    "                                    'Broadway Fillmore', 'Elmwood Bryant', 'Central', 'West Hertel',\n",
    "                                   'Allentown', 'Elmwood Bidwell', 'Genesee-Moselle', 'Kaisertown',\n",
    "                                   'University Heights', 'Kensington-Bailey', 'West Side',\n",
    "                                   'Masten Park', 'Upper West Side', 'Lower West Side', 'Black Rock',\n",
    "                                   'Fruit Belt', 'Schiller Park', 'Fillmore-Leroy',\n",
    "                                   'Seneca-Cazenovia', 'Kenfield', 'Parkside', 'Hopkins-Tifft',\n",
    "                                   'Central Park', 'South Park', 'Ellicott', 'MLK Park',\n",
    "                                   'Grant-Amherst', 'Delavan Grider', 'Hamlin Park', 'Seneca Babcock',\n",
    "                                   'First Ward' ], ['NorthPark', 'Lovejoy', 'PrattWillert', 'Riverside',\n",
    "                                                    'BroadwayFillmore', 'ElmwoodBryant', 'Central', 'WestHertel',\n",
    "                                                    'Allentown', 'ElmwoodBidwell', 'GeneseeMoselle', 'Kaisertown',\n",
    "                                                    'UniversityHeights', 'KensingtonBailey', 'WestSide',\n",
    "                                                    'MastenPark', 'UpperWestSide', 'LowerWestSide', 'BlackRock',\n",
    "                                                    'FruitBelt', 'SchillerPark', 'FillmoreLeroy',\n",
    "                                                    'SenecaCazenovia', 'Kenfield', 'Parkside', 'HopkinsTifft',\n",
    "                                                    'CentralPark', 'SouthPark', 'Ellicott', 'MLKPark',\n",
    "                                                    'GrantAmherst', 'DelavanGrider', 'HamlinPark', 'SenecaBabcock',\n",
    "                                                    'FirstWard'])"
   ]
  },
  {
   "cell_type": "code",
   "execution_count": 99,
   "metadata": {},
   "outputs": [
    {
     "data": {
      "text/plain": [
       "date    4426\n",
       "nbh       35\n",
       "day        7\n",
       "year      13\n",
       "hour      24\n",
       "nb         8\n",
       "dtype: int64"
      ]
     },
     "execution_count": 99,
     "metadata": {},
     "output_type": "execute_result"
    }
   ],
   "source": [
    "df.nunique()"
   ]
  },
  {
   "cell_type": "code",
   "execution_count": 100,
   "metadata": {},
   "outputs": [
    {
     "data": {
      "text/plain": [
       "(197809, 6)"
      ]
     },
     "execution_count": 100,
     "metadata": {},
     "output_type": "execute_result"
    }
   ],
   "source": [
    "df.shape"
   ]
  },
  {
   "cell_type": "code",
   "execution_count": 101,
   "metadata": {},
   "outputs": [
    {
     "data": {
      "text/html": [
       "<div>\n",
       "<style scoped>\n",
       "    .dataframe tbody tr th:only-of-type {\n",
       "        vertical-align: middle;\n",
       "    }\n",
       "\n",
       "    .dataframe tbody tr th {\n",
       "        vertical-align: top;\n",
       "    }\n",
       "\n",
       "    .dataframe thead th {\n",
       "        text-align: right;\n",
       "    }\n",
       "</style>\n",
       "<table border=\"1\" class=\"dataframe\">\n",
       "  <thead>\n",
       "    <tr style=\"text-align: right;\">\n",
       "      <th></th>\n",
       "      <th>nbh</th>\n",
       "      <th>day</th>\n",
       "      <th>year</th>\n",
       "      <th>hour</th>\n",
       "      <th>nb</th>\n",
       "    </tr>\n",
       "  </thead>\n",
       "  <tbody>\n",
       "    <tr>\n",
       "      <th>14</th>\n",
       "      <td>Lovejoy</td>\n",
       "      <td>SATURDAY</td>\n",
       "      <td>2011</td>\n",
       "      <td>19</td>\n",
       "      <td>8</td>\n",
       "    </tr>\n",
       "    <tr>\n",
       "      <th>27</th>\n",
       "      <td>PrattWillert</td>\n",
       "      <td>FRIDAY</td>\n",
       "      <td>2016</td>\n",
       "      <td>16</td>\n",
       "      <td>8</td>\n",
       "    </tr>\n",
       "    <tr>\n",
       "      <th>47</th>\n",
       "      <td>Central</td>\n",
       "      <td>FRIDAY</td>\n",
       "      <td>2010</td>\n",
       "      <td>2</td>\n",
       "      <td>6</td>\n",
       "    </tr>\n",
       "    <tr>\n",
       "      <th>48</th>\n",
       "      <td>BroadwayFillmore</td>\n",
       "      <td>THURSDAY</td>\n",
       "      <td>2010</td>\n",
       "      <td>0</td>\n",
       "      <td>6</td>\n",
       "    </tr>\n",
       "    <tr>\n",
       "      <th>49</th>\n",
       "      <td>WestHertel</td>\n",
       "      <td>MONDAY</td>\n",
       "      <td>2010</td>\n",
       "      <td>20</td>\n",
       "      <td>6</td>\n",
       "    </tr>\n",
       "  </tbody>\n",
       "</table>\n",
       "</div>"
      ],
      "text/plain": [
       "                 nbh       day  year  hour  nb\n",
       "14           Lovejoy  SATURDAY  2011    19   8\n",
       "27      PrattWillert    FRIDAY  2016    16   8\n",
       "47           Central    FRIDAY  2010     2   6\n",
       "48  BroadwayFillmore  THURSDAY  2010     0   6\n",
       "49        WestHertel    MONDAY  2010    20   6"
      ]
     },
     "execution_count": 101,
     "metadata": {},
     "output_type": "execute_result"
    }
   ],
   "source": [
    "df_= df.drop('date', axis=1)\n",
    "df_.head()"
   ]
  },
  {
   "cell_type": "markdown",
   "metadata": {},
   "source": [
    "#### create dummies variables weekdays, hours and neighbourhood"
   ]
  },
  {
   "cell_type": "code",
   "execution_count": 102,
   "metadata": {},
   "outputs": [],
   "source": [
    "dummy_weekday = pd.get_dummies(df['day'])\n",
    "\n",
    "dummy_weekday.columns = df['day'].unique()\n",
    "\n",
    "df = pd.concat([df,dummy_weekday], axis=1)\n",
    "\n",
    "dummy_hour= pd.get_dummies(df['hour'])\n",
    "\n",
    "dummy_hour.columns = df['hour'].unique()\n",
    "\n",
    "df = pd.concat([df,dummy_hour], axis=1)\n",
    "\n",
    "dummy_nbh= pd.get_dummies(df['nbh'])\n",
    "\n",
    "dummy_nbh.columns = df['nbh'].unique()\n",
    "\n",
    "df = pd.concat([df,dummy_nbh], axis=1)\n",
    "\n",
    "dummy_year= pd.get_dummies(df['year'])\n",
    "\n",
    "dummy_year.columns = df['year'].unique()\n",
    "\n",
    "df = pd.concat([df,dummy_year], axis=1)"
   ]
  },
  {
   "cell_type": "code",
   "execution_count": 103,
   "metadata": {},
   "outputs": [],
   "source": [
    "df= df.drop(['day', 'hour', 'nbh', 'date'], axis=1)"
   ]
  },
  {
   "cell_type": "code",
   "execution_count": 104,
   "metadata": {},
   "outputs": [
    {
     "data": {
      "text/html": [
       "<div>\n",
       "<style scoped>\n",
       "    .dataframe tbody tr th:only-of-type {\n",
       "        vertical-align: middle;\n",
       "    }\n",
       "\n",
       "    .dataframe tbody tr th {\n",
       "        vertical-align: top;\n",
       "    }\n",
       "\n",
       "    .dataframe thead th {\n",
       "        text-align: right;\n",
       "    }\n",
       "</style>\n",
       "<table border=\"1\" class=\"dataframe\">\n",
       "  <thead>\n",
       "    <tr style=\"text-align: right;\">\n",
       "      <th></th>\n",
       "      <th>year</th>\n",
       "      <th>nb</th>\n",
       "      <th>SATURDAY</th>\n",
       "      <th>FRIDAY</th>\n",
       "      <th>THURSDAY</th>\n",
       "      <th>MONDAY</th>\n",
       "      <th>SUNDAY</th>\n",
       "      <th>WEDNESDAY</th>\n",
       "      <th>TUESDAY</th>\n",
       "      <th>19</th>\n",
       "      <th>...</th>\n",
       "      <th>2012</th>\n",
       "      <th>2013</th>\n",
       "      <th>2019</th>\n",
       "      <th>2009</th>\n",
       "      <th>2014</th>\n",
       "      <th>2017</th>\n",
       "      <th>2015</th>\n",
       "      <th>2018</th>\n",
       "      <th>2020</th>\n",
       "      <th>2021</th>\n",
       "    </tr>\n",
       "  </thead>\n",
       "  <tbody>\n",
       "    <tr>\n",
       "      <th>14</th>\n",
       "      <td>2011</td>\n",
       "      <td>8</td>\n",
       "      <td>0</td>\n",
       "      <td>0</td>\n",
       "      <td>1</td>\n",
       "      <td>0</td>\n",
       "      <td>0</td>\n",
       "      <td>0</td>\n",
       "      <td>0</td>\n",
       "      <td>0</td>\n",
       "      <td>...</td>\n",
       "      <td>0</td>\n",
       "      <td>0</td>\n",
       "      <td>0</td>\n",
       "      <td>0</td>\n",
       "      <td>0</td>\n",
       "      <td>0</td>\n",
       "      <td>0</td>\n",
       "      <td>0</td>\n",
       "      <td>0</td>\n",
       "      <td>0</td>\n",
       "    </tr>\n",
       "    <tr>\n",
       "      <th>27</th>\n",
       "      <td>2016</td>\n",
       "      <td>8</td>\n",
       "      <td>1</td>\n",
       "      <td>0</td>\n",
       "      <td>0</td>\n",
       "      <td>0</td>\n",
       "      <td>0</td>\n",
       "      <td>0</td>\n",
       "      <td>0</td>\n",
       "      <td>0</td>\n",
       "      <td>...</td>\n",
       "      <td>0</td>\n",
       "      <td>0</td>\n",
       "      <td>0</td>\n",
       "      <td>0</td>\n",
       "      <td>1</td>\n",
       "      <td>0</td>\n",
       "      <td>0</td>\n",
       "      <td>0</td>\n",
       "      <td>0</td>\n",
       "      <td>0</td>\n",
       "    </tr>\n",
       "    <tr>\n",
       "      <th>47</th>\n",
       "      <td>2010</td>\n",
       "      <td>6</td>\n",
       "      <td>1</td>\n",
       "      <td>0</td>\n",
       "      <td>0</td>\n",
       "      <td>0</td>\n",
       "      <td>0</td>\n",
       "      <td>0</td>\n",
       "      <td>0</td>\n",
       "      <td>0</td>\n",
       "      <td>...</td>\n",
       "      <td>0</td>\n",
       "      <td>0</td>\n",
       "      <td>0</td>\n",
       "      <td>0</td>\n",
       "      <td>0</td>\n",
       "      <td>0</td>\n",
       "      <td>0</td>\n",
       "      <td>0</td>\n",
       "      <td>0</td>\n",
       "      <td>0</td>\n",
       "    </tr>\n",
       "    <tr>\n",
       "      <th>48</th>\n",
       "      <td>2010</td>\n",
       "      <td>6</td>\n",
       "      <td>0</td>\n",
       "      <td>0</td>\n",
       "      <td>0</td>\n",
       "      <td>0</td>\n",
       "      <td>1</td>\n",
       "      <td>0</td>\n",
       "      <td>0</td>\n",
       "      <td>1</td>\n",
       "      <td>...</td>\n",
       "      <td>0</td>\n",
       "      <td>0</td>\n",
       "      <td>0</td>\n",
       "      <td>0</td>\n",
       "      <td>0</td>\n",
       "      <td>0</td>\n",
       "      <td>0</td>\n",
       "      <td>0</td>\n",
       "      <td>0</td>\n",
       "      <td>0</td>\n",
       "    </tr>\n",
       "    <tr>\n",
       "      <th>49</th>\n",
       "      <td>2010</td>\n",
       "      <td>6</td>\n",
       "      <td>0</td>\n",
       "      <td>1</td>\n",
       "      <td>0</td>\n",
       "      <td>0</td>\n",
       "      <td>0</td>\n",
       "      <td>0</td>\n",
       "      <td>0</td>\n",
       "      <td>0</td>\n",
       "      <td>...</td>\n",
       "      <td>0</td>\n",
       "      <td>0</td>\n",
       "      <td>0</td>\n",
       "      <td>0</td>\n",
       "      <td>0</td>\n",
       "      <td>0</td>\n",
       "      <td>0</td>\n",
       "      <td>0</td>\n",
       "      <td>0</td>\n",
       "      <td>0</td>\n",
       "    </tr>\n",
       "  </tbody>\n",
       "</table>\n",
       "<p>5 rows × 81 columns</p>\n",
       "</div>"
      ],
      "text/plain": [
       "    year  nb  SATURDAY  FRIDAY  THURSDAY  MONDAY  SUNDAY  WEDNESDAY  TUESDAY  \\\n",
       "14  2011   8         0       0         1       0       0          0        0   \n",
       "27  2016   8         1       0         0       0       0          0        0   \n",
       "47  2010   6         1       0         0       0       0          0        0   \n",
       "48  2010   6         0       0         0       0       1          0        0   \n",
       "49  2010   6         0       1         0       0       0          0        0   \n",
       "\n",
       "    19  ...  2012  2013  2019  2009  2014  2017  2015  2018  2020  2021  \n",
       "14   0  ...     0     0     0     0     0     0     0     0     0     0  \n",
       "27   0  ...     0     0     0     0     1     0     0     0     0     0  \n",
       "47   0  ...     0     0     0     0     0     0     0     0     0     0  \n",
       "48   1  ...     0     0     0     0     0     0     0     0     0     0  \n",
       "49   0  ...     0     0     0     0     0     0     0     0     0     0  \n",
       "\n",
       "[5 rows x 81 columns]"
      ]
     },
     "execution_count": 104,
     "metadata": {},
     "output_type": "execute_result"
    }
   ],
   "source": [
    "df.head()"
   ]
  },
  {
   "cell_type": "markdown",
   "metadata": {},
   "source": [
    "## Kcross validation"
   ]
  },
  {
   "cell_type": "code",
   "execution_count": 105,
   "metadata": {},
   "outputs": [],
   "source": [
    "from sklearn.model_selection import KFold # import KFold\n",
    "from sklearn.metrics import accuracy_score #To calculate accuracy"
   ]
  },
  {
   "cell_type": "code",
   "execution_count": 118,
   "metadata": {},
   "outputs": [],
   "source": [
    "kf = KFold(n_splits = 7)\n",
    "def cross_validation_XG_classifier(model):\n",
    "    accuracy = []\n",
    "    for train_index, test_index in kf.split(df):\n",
    "        #train part\n",
    "        X_train = np.array(df.drop('nb', axis = 1))[train_index]\n",
    "        y_train = np.array(df.nb)[train_index]\n",
    "        #test part\n",
    "        X_test = np.array(df.drop('nb', axis = 1))[test_index]\n",
    "        y_test = np.array(df.nb)[test_index]\n",
    "\n",
    "        model.fit(X_train, y_train)\n",
    "\n",
    "        y_pred = model.predict(X_test)\n",
    "\n",
    "        y_pred = my_ceil(np.array(y_pred))\n",
    "\n",
    "        accuracy.append(accuracy_score(y_pred, y_test))\n",
    "    return np.average(accuracy)\n"
   ]
  },
  {
   "cell_type": "code",
   "execution_count": 119,
   "metadata": {},
   "outputs": [],
   "source": [
    "kf_ = KFold(n_splits = 7)\n",
    "# Converts floats to integers for classification\n",
    "def my_ceil(predictions):\n",
    "  for i in range(len(predictions)):\n",
    "\n",
    "    if predictions[i]%1 <= +0.5:\n",
    "      predictions[i] = int(predictions[i])\n",
    "    else:\n",
    "      predictions[i] = int(predictions[i]) + 1\n",
    "  return predictions\n",
    "\n",
    "\n",
    "def cross_validation_Lregressor(formula):\n",
    "    accuracy = []\n",
    "    for train_index, test_index in kf_.split(df_):\n",
    "    \n",
    "        #train part\n",
    "        train = df_.iloc[train_index]\n",
    "        #test part\n",
    "        test = df_.iloc[test_index]\n",
    "\n",
    "        model_lr = formula\n",
    "        result_lr = smf.ols(model_lr, data = train).fit()\n",
    "\n",
    "        y_pred = np.array(result_lr.predict(test))\n",
    "\n",
    "        y_pred = my_ceil(y_pred)\n",
    "\n",
    "        accuracy.append(accuracy_score(y_pred, test.nb))\n",
    "   \n",
    "    return np.average(accuracy)"
   ]
  },
  {
   "cell_type": "markdown",
   "metadata": {},
   "source": [
    "## Models "
   ]
  },
  {
   "cell_type": "markdown",
   "metadata": {},
   "source": [
    "### Linear regression"
   ]
  },
  {
   "cell_type": "code",
   "execution_count": 120,
   "metadata": {},
   "outputs": [],
   "source": [
    "import statsmodels.formula.api as smf\n",
    "import statsmodels.api as sm"
   ]
  },
  {
   "cell_type": "code",
   "execution_count": 121,
   "metadata": {},
   "outputs": [],
   "source": [
    "all_year = sorted(df_[\"year\"].unique())"
   ]
  },
  {
   "cell_type": "code",
   "execution_count": 122,
   "metadata": {},
   "outputs": [],
   "source": [
    "model_lr = 'nb ~ nbh + day + hour +C(year, levels=all_year)'\n",
    "result_lr = smf.ols(model_lr, data = df_).fit()\n"
   ]
  },
  {
   "cell_type": "code",
   "execution_count": 123,
   "metadata": {},
   "outputs": [
    {
     "data": {
      "text/plain": [
       "0.48679850347998715"
      ]
     },
     "execution_count": 123,
     "metadata": {},
     "output_type": "execute_result"
    }
   ],
   "source": [
    "cross_validation_Lregressor(model_lr)"
   ]
  },
  {
   "cell_type": "markdown",
   "metadata": {},
   "source": [
    "### Xgboost"
   ]
  },
  {
   "cell_type": "code",
   "execution_count": 124,
   "metadata": {},
   "outputs": [],
   "source": [
    "import xgboost"
   ]
  },
  {
   "cell_type": "code",
   "execution_count": 125,
   "metadata": {},
   "outputs": [],
   "source": [
    "model_xg = xgboost.XGBRegressor(objective ='reg:squarederror', colsample_bytree = 0.3, learning_rate = 0.05,\n",
    "                          alpha = 10,base_score= 0.4, booster='gbtree', n_estimators = 150)"
   ]
  },
  {
   "cell_type": "code",
   "execution_count": 126,
   "metadata": {},
   "outputs": [
    {
     "data": {
      "text/plain": [
       "0.4854790288432218"
      ]
     },
     "execution_count": 126,
     "metadata": {},
     "output_type": "execute_result"
    }
   ],
   "source": [
    "cross_validation_XG_classifier(model_xg)"
   ]
  },
  {
   "cell_type": "code",
   "execution_count": null,
   "metadata": {},
   "outputs": [],
   "source": []
  }
 ],
 "metadata": {
  "kernelspec": {
   "display_name": "Python 3",
   "language": "python",
   "name": "python3"
  },
  "language_info": {
   "codemirror_mode": {
    "name": "ipython",
    "version": 3
   },
   "file_extension": ".py",
   "mimetype": "text/x-python",
   "name": "python",
   "nbconvert_exporter": "python",
   "pygments_lexer": "ipython3",
   "version": "3.7.4"
  }
 },
 "nbformat": 4,
 "nbformat_minor": 2
}
