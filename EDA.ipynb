{
 "cells": [
  {
   "cell_type": "code",
   "execution_count": 1,
   "metadata": {},
   "outputs": [],
   "source": [
    "import pandas as pd\n",
    "import numpy as np\n",
    "import seaborn as sns"
   ]
  },
  {
   "cell_type": "code",
   "execution_count": 54,
   "metadata": {},
   "outputs": [
    {
     "name": "stderr",
     "output_type": "stream",
     "text": [
      "C:\\Users\\HP\\anaconda3\\lib\\site-packages\\IPython\\core\\interactiveshell.py:3146: DtypeWarning: Columns (10,11,20,21,22,23,24,25) have mixed types.Specify dtype option on import or set low_memory=False.\n",
      "  has_raised = await self.run_ast_nodes(code_ast.body, cell_name,\n"
     ]
    }
   ],
   "source": [
    "data = pd.read_csv(\"C:/Users/HP/Downloads/Crime_Incidents(1).csv\")"
   ]
  },
  {
   "cell_type": "code",
   "execution_count": 3,
   "metadata": {},
   "outputs": [
    {
     "data": {
      "text/html": [
       "<div>\n",
       "<style scoped>\n",
       "    .dataframe tbody tr th:only-of-type {\n",
       "        vertical-align: middle;\n",
       "    }\n",
       "\n",
       "    .dataframe tbody tr th {\n",
       "        vertical-align: top;\n",
       "    }\n",
       "\n",
       "    .dataframe thead th {\n",
       "        text-align: right;\n",
       "    }\n",
       "</style>\n",
       "<table border=\"1\" class=\"dataframe\">\n",
       "  <thead>\n",
       "    <tr style=\"text-align: right;\">\n",
       "      <th></th>\n",
       "      <th>incident_id</th>\n",
       "      <th>case_number</th>\n",
       "      <th>incident_datetime</th>\n",
       "      <th>incident_type_primary</th>\n",
       "      <th>incident_description</th>\n",
       "      <th>clearance_type</th>\n",
       "      <th>address_1</th>\n",
       "      <th>address_2</th>\n",
       "      <th>city</th>\n",
       "      <th>state</th>\n",
       "      <th>...</th>\n",
       "      <th>location</th>\n",
       "      <th>hour_of_day</th>\n",
       "      <th>day_of_week</th>\n",
       "      <th>parent_incident_type</th>\n",
       "      <th>Census Tract 1</th>\n",
       "      <th>Census Block 1</th>\n",
       "      <th>Census Block Group 1</th>\n",
       "      <th>Neighborhood 1</th>\n",
       "      <th>Police District 1</th>\n",
       "      <th>Council District 1</th>\n",
       "    </tr>\n",
       "  </thead>\n",
       "  <tbody>\n",
       "    <tr>\n",
       "      <th>0</th>\n",
       "      <td>951642799.0</td>\n",
       "      <td>20-0050070</td>\n",
       "      <td>1/5/2020 1:30</td>\n",
       "      <td>LARCENY/THEFT</td>\n",
       "      <td>Buffalo Police are investigating this report o...</td>\n",
       "      <td>NaN</td>\n",
       "      <td>200 Block ONEIDA AV</td>\n",
       "      <td>NaN</td>\n",
       "      <td>Buffalo</td>\n",
       "      <td>NY</td>\n",
       "      <td>...</td>\n",
       "      <td>POINT (-78.843 42.876)</td>\n",
       "      <td>2</td>\n",
       "      <td>SUNDAY</td>\n",
       "      <td>Theft</td>\n",
       "      <td>163</td>\n",
       "      <td>1005</td>\n",
       "      <td>1</td>\n",
       "      <td>Seneca Babcock</td>\n",
       "      <td>District A</td>\n",
       "      <td>FILLMORE</td>\n",
       "    </tr>\n",
       "    <tr>\n",
       "      <th>1</th>\n",
       "      <td>951660739.0</td>\n",
       "      <td>20-0050096</td>\n",
       "      <td>1/5/2020 2:07</td>\n",
       "      <td>MURDER</td>\n",
       "      <td>Buffalo Police are investigating this report o...</td>\n",
       "      <td>NaN</td>\n",
       "      <td>PADEREWSKI DR &amp; SHUMWAY ST</td>\n",
       "      <td>NaN</td>\n",
       "      <td>Buffalo</td>\n",
       "      <td>NY</td>\n",
       "      <td>...</td>\n",
       "      <td>POINT (-78.845 42.89)</td>\n",
       "      <td>2</td>\n",
       "      <td>SUNDAY</td>\n",
       "      <td>Homicide</td>\n",
       "      <td>15</td>\n",
       "      <td>2021</td>\n",
       "      <td>2</td>\n",
       "      <td>Broadway Fillmore</td>\n",
       "      <td>District C</td>\n",
       "      <td>FILLMORE</td>\n",
       "    </tr>\n",
       "    <tr>\n",
       "      <th>2</th>\n",
       "      <td>951639680.0</td>\n",
       "      <td>20-0050120</td>\n",
       "      <td>1/4/2020 23:00</td>\n",
       "      <td>ASSAULT</td>\n",
       "      <td>Buffalo Police are investigating this report o...</td>\n",
       "      <td>NaN</td>\n",
       "      <td>400 Block GRIDER ST</td>\n",
       "      <td>NaN</td>\n",
       "      <td>Buffalo</td>\n",
       "      <td>NY</td>\n",
       "      <td>...</td>\n",
       "      <td>POINT (-78.829 42.918)</td>\n",
       "      <td>2</td>\n",
       "      <td>SUNDAY</td>\n",
       "      <td>Assault</td>\n",
       "      <td>34</td>\n",
       "      <td>5019</td>\n",
       "      <td>5</td>\n",
       "      <td>Delavan Grider</td>\n",
       "      <td>District E</td>\n",
       "      <td>MASTEN</td>\n",
       "    </tr>\n",
       "    <tr>\n",
       "      <th>3</th>\n",
       "      <td>952253766.0</td>\n",
       "      <td>20-0120068</td>\n",
       "      <td>1/12/2020 1:39</td>\n",
       "      <td>ASSAULT</td>\n",
       "      <td>Buffalo Police are investigating this report o...</td>\n",
       "      <td>NaN</td>\n",
       "      <td>600 Block HOPKINS ST</td>\n",
       "      <td>NaN</td>\n",
       "      <td>Buffalo</td>\n",
       "      <td>NY</td>\n",
       "      <td>...</td>\n",
       "      <td>POINT (-78.833 42.857)</td>\n",
       "      <td>2</td>\n",
       "      <td>SUNDAY</td>\n",
       "      <td>Assault</td>\n",
       "      <td>1.1</td>\n",
       "      <td>3031</td>\n",
       "      <td>3</td>\n",
       "      <td>Hopkins-Tifft</td>\n",
       "      <td>District A</td>\n",
       "      <td>SOUTH</td>\n",
       "    </tr>\n",
       "    <tr>\n",
       "      <th>4</th>\n",
       "      <td>NaN</td>\n",
       "      <td>20-0050162</td>\n",
       "      <td>1/5/2020 4:00</td>\n",
       "      <td>ASSAULT</td>\n",
       "      <td>Buffalo Police are investigating this report o...</td>\n",
       "      <td>NaN</td>\n",
       "      <td>0 Block POPLAR AV</td>\n",
       "      <td>NaN</td>\n",
       "      <td>Buffalo</td>\n",
       "      <td>NY</td>\n",
       "      <td>...</td>\n",
       "      <td>POINT (-78.805 42.907)</td>\n",
       "      <td>4</td>\n",
       "      <td>SUNDAY</td>\n",
       "      <td>Assault</td>\n",
       "      <td>30</td>\n",
       "      <td>2003</td>\n",
       "      <td>2</td>\n",
       "      <td>Schiller Park</td>\n",
       "      <td>District C</td>\n",
       "      <td>LOVEJOY</td>\n",
       "    </tr>\n",
       "    <tr>\n",
       "      <th>...</th>\n",
       "      <td>...</td>\n",
       "      <td>...</td>\n",
       "      <td>...</td>\n",
       "      <td>...</td>\n",
       "      <td>...</td>\n",
       "      <td>...</td>\n",
       "      <td>...</td>\n",
       "      <td>...</td>\n",
       "      <td>...</td>\n",
       "      <td>...</td>\n",
       "      <td>...</td>\n",
       "      <td>...</td>\n",
       "      <td>...</td>\n",
       "      <td>...</td>\n",
       "      <td>...</td>\n",
       "      <td>...</td>\n",
       "      <td>...</td>\n",
       "      <td>...</td>\n",
       "      <td>...</td>\n",
       "      <td>...</td>\n",
       "      <td>...</td>\n",
       "    </tr>\n",
       "    <tr>\n",
       "      <th>267560</th>\n",
       "      <td>NaN</td>\n",
       "      <td>21-0030712</td>\n",
       "      <td>1/3/2021 21:47</td>\n",
       "      <td>UUV</td>\n",
       "      <td>Buffalo Police are investigating this report o...</td>\n",
       "      <td>NaN</td>\n",
       "      <td>200 Block HEMPSTEAD AV</td>\n",
       "      <td>NaN</td>\n",
       "      <td>Buffalo</td>\n",
       "      <td>NY</td>\n",
       "      <td>...</td>\n",
       "      <td>POINT (-78.804 42.931)</td>\n",
       "      <td>21</td>\n",
       "      <td>SUNDAY</td>\n",
       "      <td>Theft of Vehicle</td>\n",
       "      <td>44.02</td>\n",
       "      <td>1002</td>\n",
       "      <td>1</td>\n",
       "      <td>Kenfield</td>\n",
       "      <td>District E</td>\n",
       "      <td>UNIVERSITY</td>\n",
       "    </tr>\n",
       "    <tr>\n",
       "      <th>267561</th>\n",
       "      <td>NaN</td>\n",
       "      <td>21-0030753</td>\n",
       "      <td>1/3/2021 23:00</td>\n",
       "      <td>LARCENY/THEFT</td>\n",
       "      <td>Buffalo Police are investigating this report o...</td>\n",
       "      <td>NaN</td>\n",
       "      <td>2400 Block DELAWARE AV</td>\n",
       "      <td>NaN</td>\n",
       "      <td>Buffalo</td>\n",
       "      <td>NY</td>\n",
       "      <td>...</td>\n",
       "      <td>POINT (-78.869 42.951)</td>\n",
       "      <td>23</td>\n",
       "      <td>SUNDAY</td>\n",
       "      <td>Theft</td>\n",
       "      <td>50</td>\n",
       "      <td>1001</td>\n",
       "      <td>1</td>\n",
       "      <td>North Park</td>\n",
       "      <td>District D</td>\n",
       "      <td>NORTH</td>\n",
       "    </tr>\n",
       "    <tr>\n",
       "      <th>267562</th>\n",
       "      <td>NaN</td>\n",
       "      <td>21-0040025</td>\n",
       "      <td>1/4/2021 0:45</td>\n",
       "      <td>ROBBERY</td>\n",
       "      <td>Buffalo Police are investigating this report o...</td>\n",
       "      <td>NaN</td>\n",
       "      <td>100 Block N PEARL ST</td>\n",
       "      <td>NaN</td>\n",
       "      <td>Buffalo</td>\n",
       "      <td>NY</td>\n",
       "      <td>...</td>\n",
       "      <td>POINT (-78.871 42.901)</td>\n",
       "      <td>0</td>\n",
       "      <td>MONDAY</td>\n",
       "      <td>Robbery</td>\n",
       "      <td>68</td>\n",
       "      <td>2001</td>\n",
       "      <td>2</td>\n",
       "      <td>Allentown</td>\n",
       "      <td>District B</td>\n",
       "      <td>FILLMORE</td>\n",
       "    </tr>\n",
       "    <tr>\n",
       "      <th>267563</th>\n",
       "      <td>NaN</td>\n",
       "      <td>21-0040028</td>\n",
       "      <td>1/4/2021 0:50</td>\n",
       "      <td>ASSAULT</td>\n",
       "      <td>Buffalo Police are investigating this report o...</td>\n",
       "      <td>NaN</td>\n",
       "      <td>SENECA ST &amp; MINERAL SPRINGS RD</td>\n",
       "      <td>NaN</td>\n",
       "      <td>Buffalo</td>\n",
       "      <td>NY</td>\n",
       "      <td>...</td>\n",
       "      <td>POINT (-78.813 42.858)</td>\n",
       "      <td>0</td>\n",
       "      <td>MONDAY</td>\n",
       "      <td>Assault</td>\n",
       "      <td>10</td>\n",
       "      <td>4001</td>\n",
       "      <td>4</td>\n",
       "      <td>Seneca-Cazenovia</td>\n",
       "      <td>District A</td>\n",
       "      <td>SOUTH</td>\n",
       "    </tr>\n",
       "    <tr>\n",
       "      <th>267564</th>\n",
       "      <td>NaN</td>\n",
       "      <td>21-0040060</td>\n",
       "      <td>1/4/2021 2:51</td>\n",
       "      <td>ASSAULT</td>\n",
       "      <td>Buffalo Police are investigating this report o...</td>\n",
       "      <td>NaN</td>\n",
       "      <td>1000 Block KENSINGTON AV</td>\n",
       "      <td>NaN</td>\n",
       "      <td>Buffalo</td>\n",
       "      <td>NY</td>\n",
       "      <td>...</td>\n",
       "      <td>POINT (-78.817 42.937)</td>\n",
       "      <td>2</td>\n",
       "      <td>MONDAY</td>\n",
       "      <td>Assault</td>\n",
       "      <td>42</td>\n",
       "      <td>2002</td>\n",
       "      <td>2</td>\n",
       "      <td>Kensington-Bailey</td>\n",
       "      <td>District E</td>\n",
       "      <td>MASTEN</td>\n",
       "    </tr>\n",
       "  </tbody>\n",
       "</table>\n",
       "<p>267565 rows × 26 columns</p>\n",
       "</div>"
      ],
      "text/plain": [
       "        incident_id case_number incident_datetime incident_type_primary  \\\n",
       "0       951642799.0  20-0050070     1/5/2020 1:30         LARCENY/THEFT   \n",
       "1       951660739.0  20-0050096     1/5/2020 2:07                MURDER   \n",
       "2       951639680.0  20-0050120    1/4/2020 23:00               ASSAULT   \n",
       "3       952253766.0  20-0120068    1/12/2020 1:39               ASSAULT   \n",
       "4               NaN  20-0050162     1/5/2020 4:00               ASSAULT   \n",
       "...             ...         ...               ...                   ...   \n",
       "267560          NaN  21-0030712    1/3/2021 21:47                   UUV   \n",
       "267561          NaN  21-0030753    1/3/2021 23:00         LARCENY/THEFT   \n",
       "267562          NaN  21-0040025     1/4/2021 0:45               ROBBERY   \n",
       "267563          NaN  21-0040028     1/4/2021 0:50               ASSAULT   \n",
       "267564          NaN  21-0040060     1/4/2021 2:51               ASSAULT   \n",
       "\n",
       "                                     incident_description  clearance_type  \\\n",
       "0       Buffalo Police are investigating this report o...             NaN   \n",
       "1       Buffalo Police are investigating this report o...             NaN   \n",
       "2       Buffalo Police are investigating this report o...             NaN   \n",
       "3       Buffalo Police are investigating this report o...             NaN   \n",
       "4       Buffalo Police are investigating this report o...             NaN   \n",
       "...                                                   ...             ...   \n",
       "267560  Buffalo Police are investigating this report o...             NaN   \n",
       "267561  Buffalo Police are investigating this report o...             NaN   \n",
       "267562  Buffalo Police are investigating this report o...             NaN   \n",
       "267563  Buffalo Police are investigating this report o...             NaN   \n",
       "267564  Buffalo Police are investigating this report o...             NaN   \n",
       "\n",
       "                             address_1  address_2     city state  ...  \\\n",
       "0                  200 Block ONEIDA AV        NaN  Buffalo    NY  ...   \n",
       "1           PADEREWSKI DR & SHUMWAY ST        NaN  Buffalo    NY  ...   \n",
       "2                  400 Block GRIDER ST        NaN  Buffalo    NY  ...   \n",
       "3                 600 Block HOPKINS ST        NaN  Buffalo    NY  ...   \n",
       "4                    0 Block POPLAR AV        NaN  Buffalo    NY  ...   \n",
       "...                                ...        ...      ...   ...  ...   \n",
       "267560          200 Block HEMPSTEAD AV        NaN  Buffalo    NY  ...   \n",
       "267561          2400 Block DELAWARE AV        NaN  Buffalo    NY  ...   \n",
       "267562            100 Block N PEARL ST        NaN  Buffalo    NY  ...   \n",
       "267563  SENECA ST & MINERAL SPRINGS RD        NaN  Buffalo    NY  ...   \n",
       "267564        1000 Block KENSINGTON AV        NaN  Buffalo    NY  ...   \n",
       "\n",
       "                      location hour_of_day  day_of_week  parent_incident_type  \\\n",
       "0       POINT (-78.843 42.876)           2       SUNDAY                 Theft   \n",
       "1        POINT (-78.845 42.89)           2       SUNDAY              Homicide   \n",
       "2       POINT (-78.829 42.918)           2       SUNDAY               Assault   \n",
       "3       POINT (-78.833 42.857)           2       SUNDAY               Assault   \n",
       "4       POINT (-78.805 42.907)           4       SUNDAY               Assault   \n",
       "...                        ...         ...          ...                   ...   \n",
       "267560  POINT (-78.804 42.931)          21       SUNDAY      Theft of Vehicle   \n",
       "267561  POINT (-78.869 42.951)          23       SUNDAY                 Theft   \n",
       "267562  POINT (-78.871 42.901)           0       MONDAY               Robbery   \n",
       "267563  POINT (-78.813 42.858)           0       MONDAY               Assault   \n",
       "267564  POINT (-78.817 42.937)           2       MONDAY               Assault   \n",
       "\n",
       "       Census Tract 1 Census Block 1 Census Block Group 1     Neighborhood 1  \\\n",
       "0                 163           1005                    1     Seneca Babcock   \n",
       "1                  15           2021                    2  Broadway Fillmore   \n",
       "2                  34           5019                    5     Delavan Grider   \n",
       "3                 1.1           3031                    3      Hopkins-Tifft   \n",
       "4                  30           2003                    2      Schiller Park   \n",
       "...               ...            ...                  ...                ...   \n",
       "267560          44.02           1002                    1           Kenfield   \n",
       "267561             50           1001                    1         North Park   \n",
       "267562             68           2001                    2          Allentown   \n",
       "267563             10           4001                    4   Seneca-Cazenovia   \n",
       "267564             42           2002                    2  Kensington-Bailey   \n",
       "\n",
       "       Police District 1 Council District 1  \n",
       "0             District A           FILLMORE  \n",
       "1             District C           FILLMORE  \n",
       "2             District E             MASTEN  \n",
       "3             District A              SOUTH  \n",
       "4             District C            LOVEJOY  \n",
       "...                  ...                ...  \n",
       "267560        District E         UNIVERSITY  \n",
       "267561        District D              NORTH  \n",
       "267562        District B           FILLMORE  \n",
       "267563        District A              SOUTH  \n",
       "267564        District E             MASTEN  \n",
       "\n",
       "[267565 rows x 26 columns]"
      ]
     },
     "execution_count": 3,
     "metadata": {},
     "output_type": "execute_result"
    }
   ],
   "source": [
    "data"
   ]
  },
  {
   "cell_type": "code",
   "execution_count": 4,
   "metadata": {},
   "outputs": [
    {
     "data": {
      "text/plain": [
       "(267565, 26)"
      ]
     },
     "execution_count": 4,
     "metadata": {},
     "output_type": "execute_result"
    }
   ],
   "source": [
    "data.shape"
   ]
  },
  {
   "cell_type": "code",
   "execution_count": 5,
   "metadata": {},
   "outputs": [
    {
     "data": {
      "text/html": [
       "<div>\n",
       "<style scoped>\n",
       "    .dataframe tbody tr th:only-of-type {\n",
       "        vertical-align: middle;\n",
       "    }\n",
       "\n",
       "    .dataframe tbody tr th {\n",
       "        vertical-align: top;\n",
       "    }\n",
       "\n",
       "    .dataframe thead th {\n",
       "        text-align: right;\n",
       "    }\n",
       "</style>\n",
       "<table border=\"1\" class=\"dataframe\">\n",
       "  <thead>\n",
       "    <tr style=\"text-align: right;\">\n",
       "      <th></th>\n",
       "      <th>incident_id</th>\n",
       "      <th>clearance_type</th>\n",
       "      <th>address_2</th>\n",
       "      <th>latitude</th>\n",
       "      <th>longitude</th>\n",
       "      <th>hour_of_day</th>\n",
       "    </tr>\n",
       "  </thead>\n",
       "  <tbody>\n",
       "    <tr>\n",
       "      <th>count</th>\n",
       "      <td>2.551260e+05</td>\n",
       "      <td>0.0</td>\n",
       "      <td>0.0</td>\n",
       "      <td>267014.000000</td>\n",
       "      <td>267014.000000</td>\n",
       "      <td>267565.000000</td>\n",
       "    </tr>\n",
       "    <tr>\n",
       "      <th>mean</th>\n",
       "      <td>5.529445e+08</td>\n",
       "      <td>NaN</td>\n",
       "      <td>NaN</td>\n",
       "      <td>42.675369</td>\n",
       "      <td>-78.417446</td>\n",
       "      <td>11.743147</td>\n",
       "    </tr>\n",
       "    <tr>\n",
       "      <th>std</th>\n",
       "      <td>3.828970e+08</td>\n",
       "      <td>NaN</td>\n",
       "      <td>NaN</td>\n",
       "      <td>3.171504</td>\n",
       "      <td>5.832096</td>\n",
       "      <td>7.422959</td>\n",
       "    </tr>\n",
       "    <tr>\n",
       "      <th>min</th>\n",
       "      <td>1.006626e+07</td>\n",
       "      <td>NaN</td>\n",
       "      <td>NaN</td>\n",
       "      <td>0.000000</td>\n",
       "      <td>-123.869509</td>\n",
       "      <td>0.000000</td>\n",
       "    </tr>\n",
       "    <tr>\n",
       "      <th>25%</th>\n",
       "      <td>1.042642e+08</td>\n",
       "      <td>NaN</td>\n",
       "      <td>NaN</td>\n",
       "      <td>42.893037</td>\n",
       "      <td>-78.877472</td>\n",
       "      <td>5.000000</td>\n",
       "    </tr>\n",
       "    <tr>\n",
       "      <th>50%</th>\n",
       "      <td>7.375205e+08</td>\n",
       "      <td>NaN</td>\n",
       "      <td>NaN</td>\n",
       "      <td>42.912935</td>\n",
       "      <td>-78.848143</td>\n",
       "      <td>12.000000</td>\n",
       "    </tr>\n",
       "    <tr>\n",
       "      <th>75%</th>\n",
       "      <td>9.425761e+08</td>\n",
       "      <td>NaN</td>\n",
       "      <td>NaN</td>\n",
       "      <td>42.935066</td>\n",
       "      <td>-78.820284</td>\n",
       "      <td>18.000000</td>\n",
       "    </tr>\n",
       "    <tr>\n",
       "      <th>max</th>\n",
       "      <td>9.527310e+08</td>\n",
       "      <td>NaN</td>\n",
       "      <td>NaN</td>\n",
       "      <td>44.314844</td>\n",
       "      <td>0.000000</td>\n",
       "      <td>23.000000</td>\n",
       "    </tr>\n",
       "  </tbody>\n",
       "</table>\n",
       "</div>"
      ],
      "text/plain": [
       "        incident_id  clearance_type  address_2       latitude      longitude  \\\n",
       "count  2.551260e+05             0.0        0.0  267014.000000  267014.000000   \n",
       "mean   5.529445e+08             NaN        NaN      42.675369     -78.417446   \n",
       "std    3.828970e+08             NaN        NaN       3.171504       5.832096   \n",
       "min    1.006626e+07             NaN        NaN       0.000000    -123.869509   \n",
       "25%    1.042642e+08             NaN        NaN      42.893037     -78.877472   \n",
       "50%    7.375205e+08             NaN        NaN      42.912935     -78.848143   \n",
       "75%    9.425761e+08             NaN        NaN      42.935066     -78.820284   \n",
       "max    9.527310e+08             NaN        NaN      44.314844       0.000000   \n",
       "\n",
       "         hour_of_day  \n",
       "count  267565.000000  \n",
       "mean       11.743147  \n",
       "std         7.422959  \n",
       "min         0.000000  \n",
       "25%         5.000000  \n",
       "50%        12.000000  \n",
       "75%        18.000000  \n",
       "max        23.000000  "
      ]
     },
     "execution_count": 5,
     "metadata": {},
     "output_type": "execute_result"
    }
   ],
   "source": [
    "data.describe()"
   ]
  },
  {
   "cell_type": "code",
   "execution_count": 6,
   "metadata": {},
   "outputs": [
    {
     "data": {
      "text/plain": [
       "Index(['incident_id', 'case_number', 'incident_datetime',\n",
       "       'incident_type_primary', 'incident_description', 'clearance_type',\n",
       "       'address_1', 'address_2', 'city', 'state', 'zip', 'country', 'latitude',\n",
       "       'longitude', 'created_at', 'updated_at', 'location', 'hour_of_day',\n",
       "       'day_of_week', 'parent_incident_type', 'Census Tract 1',\n",
       "       'Census Block 1', 'Census Block Group 1', 'Neighborhood 1',\n",
       "       'Police District 1', 'Council District 1'],\n",
       "      dtype='object')"
      ]
     },
     "execution_count": 6,
     "metadata": {},
     "output_type": "execute_result"
    }
   ],
   "source": [
    "data.columns"
   ]
  },
  {
   "cell_type": "markdown",
   "metadata": {},
   "source": [
    "## Fixing Structural Errors"
   ]
  },
  {
   "cell_type": "code",
   "execution_count": 8,
   "metadata": {},
   "outputs": [
    {
     "data": {
      "text/plain": [
       "array(['LARCENY/THEFT', 'MURDER', 'ASSAULT', 'BURGLARY',\n",
       "       'THEFT OF SERVICES', 'UUV', 'SEXUAL ABUSE', 'ROBBERY', 'RAPE',\n",
       "       'MANSLAUGHTER', 'CRIM NEGLIGENT HOMICIDE', 'AGGR ASSAULT',\n",
       "       'AGG ASSAULT ON P/OFFICER', 'Assault', 'Sexual Assault',\n",
       "       'Other Sexual Offense', 'Breaking & Entering', 'Theft', 'Robbery',\n",
       "       'Theft of Vehicle', 'Homicide'], dtype=object)"
      ]
     },
     "execution_count": 8,
     "metadata": {},
     "output_type": "execute_result"
    }
   ],
   "source": [
    "data[\"incident_type_primary\"].unique()"
   ]
  },
  {
   "cell_type": "code",
   "execution_count": 10,
   "metadata": {},
   "outputs": [],
   "source": [
    "data[\"incident_type_primary\"] = data[\"incident_type_primary\"].replace([\"Assault\"], \"ASSAULT\")"
   ]
  },
  {
   "cell_type": "code",
   "execution_count": 11,
   "metadata": {},
   "outputs": [],
   "source": [
    "data[\"incident_type_primary\"] = data[\"incident_type_primary\"].replace([\"Robbery\"], \"ROBBERY\")"
   ]
  },
  {
   "cell_type": "code",
   "execution_count": 14,
   "metadata": {},
   "outputs": [
    {
     "data": {
      "text/plain": [
       "array(['LARCENY/THEFT', 'MURDER', 'ASSAULT', 'BURGLARY',\n",
       "       'THEFT OF SERVICES', 'UUV', 'SEXUAL ABUSE', 'ROBBERY', 'RAPE',\n",
       "       'MANSLAUGHTER', 'CRIM NEGLIGENT HOMICIDE', 'AGGR ASSAULT',\n",
       "       'AGG ASSAULT ON P/OFFICER', 'Sexual Assault',\n",
       "       'Other Sexual Offense', 'Breaking & Entering', 'Theft',\n",
       "       'Theft of Vehicle', 'Homicide'], dtype=object)"
      ]
     },
     "execution_count": 14,
     "metadata": {},
     "output_type": "execute_result"
    }
   ],
   "source": [
    "data[\"incident_type_primary\"].unique()"
   ]
  },
  {
   "cell_type": "code",
   "execution_count": 15,
   "metadata": {},
   "outputs": [
    {
     "data": {
      "text/plain": [
       "array(['Buffalo Police are investigating this report of a crime.  It is important to note that this is very preliminary information and further investigation as to the facts and circumstances of this report may be necessary.',\n",
       "       'BURGLARY', 'ASSAULT', 'LARCENY/THEFT', 'RAPE', 'SEXUAL ABUSE',\n",
       "       'ROBBERY', 'UUV', 'THEFT OF SERVICES', 'CRIM NEGLIGENT HOMICIDE',\n",
       "       'Buffalo Police are investigating this report of a crime. It is important to note that this is very preliminary information and further investigation as to the facts and circumstances of this report may be necessary.',\n",
       "       'MURDER', 'AGG ASSAULT ON P/OFFICER', 'AGGR ASSAULT'], dtype=object)"
      ]
     },
     "execution_count": 15,
     "metadata": {},
     "output_type": "execute_result"
    }
   ],
   "source": [
    "data[\"incident_description\"].unique()"
   ]
  },
  {
   "cell_type": "code",
   "execution_count": 18,
   "metadata": {},
   "outputs": [],
   "source": [
    "data[\"incident_description\"] = data[\"incident_description\"].replace([\"Buffalo Police are investigating this report of a crime.  It is important to note that this is very preliminary information and further investigation as to the facts and circumstances of this report may be necessary.\"], \"Buffalo Police are investigating this report of a crime. It is important to note that this is very preliminary information and further investigation as to the facts and circumstances of this report may be necessary.\")"
   ]
  },
  {
   "cell_type": "code",
   "execution_count": 19,
   "metadata": {},
   "outputs": [
    {
     "data": {
      "text/plain": [
       "array(['Buffalo Police are investigating this report of a crime. It is important to note that this is very preliminary information and further investigation as to the facts and circumstances of this report may be necessary.',\n",
       "       'BURGLARY', 'ASSAULT', 'LARCENY/THEFT', 'RAPE', 'SEXUAL ABUSE',\n",
       "       'ROBBERY', 'UUV', 'THEFT OF SERVICES', 'CRIM NEGLIGENT HOMICIDE',\n",
       "       'MURDER', 'AGG ASSAULT ON P/OFFICER', 'AGGR ASSAULT'], dtype=object)"
      ]
     },
     "execution_count": 19,
     "metadata": {},
     "output_type": "execute_result"
    }
   ],
   "source": [
    "data[\"incident_description\"].unique()"
   ]
  },
  {
   "cell_type": "code",
   "execution_count": 20,
   "metadata": {},
   "outputs": [
    {
     "data": {
      "text/plain": [
       "array(['Buffalo', 'BUFFALO'], dtype=object)"
      ]
     },
     "execution_count": 20,
     "metadata": {},
     "output_type": "execute_result"
    }
   ],
   "source": [
    "data[\"city\"].unique()"
   ]
  },
  {
   "cell_type": "code",
   "execution_count": 21,
   "metadata": {},
   "outputs": [],
   "source": [
    "data[\"city\"] = data[\"city\"].replace([\"Buffalo\"], \"BUFFALO\")"
   ]
  },
  {
   "cell_type": "code",
   "execution_count": 22,
   "metadata": {},
   "outputs": [
    {
     "data": {
      "text/plain": [
       "array(['BUFFALO'], dtype=object)"
      ]
     },
     "execution_count": 22,
     "metadata": {},
     "output_type": "execute_result"
    }
   ],
   "source": [
    "data[\"city\"].unique()"
   ]
  },
  {
   "cell_type": "code",
   "execution_count": 23,
   "metadata": {},
   "outputs": [
    {
     "data": {
      "text/plain": [
       "array([ 2,  4,  5,  7,  8,  9, 10, 20, 11, 12, 13, 14, 15, 16, 17, 18, 21,\n",
       "       23,  3,  6, 19, 22,  0,  1], dtype=int64)"
      ]
     },
     "execution_count": 23,
     "metadata": {},
     "output_type": "execute_result"
    }
   ],
   "source": [
    "data[\"hour_of_day\"].unique()"
   ]
  },
  {
   "cell_type": "code",
   "execution_count": 24,
   "metadata": {},
   "outputs": [
    {
     "data": {
      "text/plain": [
       "array(['SUNDAY', 'WEDNESDAY', 'THURSDAY', 'MONDAY', 'FRIDAY', 'TUESDAY',\n",
       "       'Saturday', 'SATURDAY', 'Friday', 'Monday', 'Tuesday', 'Wednesday',\n",
       "       'Sunday', 'Thursday', nan], dtype=object)"
      ]
     },
     "execution_count": 24,
     "metadata": {},
     "output_type": "execute_result"
    }
   ],
   "source": [
    "data[\"day_of_week\"].unique()"
   ]
  },
  {
   "cell_type": "code",
   "execution_count": 26,
   "metadata": {},
   "outputs": [],
   "source": [
    "data[\"day_of_week\"] = data[\"day_of_week\"].replace([\"Monday\", \"Tuesday\", \"Wednesday\", \"Thursday\", \"Friday\", \"Saturday\", \"Sunday\"], [\"MONDAY\", \"TUESDAY\", \"WEDNESDAY\", \"THURSDAY\", \"FRIDAY\", \"SATURDAY\", \"SUNDAY\"])"
   ]
  },
  {
   "cell_type": "code",
   "execution_count": 27,
   "metadata": {},
   "outputs": [
    {
     "data": {
      "text/plain": [
       "array(['SUNDAY', 'WEDNESDAY', 'THURSDAY', 'MONDAY', 'FRIDAY', 'TUESDAY',\n",
       "       'SATURDAY', nan], dtype=object)"
      ]
     },
     "execution_count": 27,
     "metadata": {},
     "output_type": "execute_result"
    }
   ],
   "source": [
    "data[\"day_of_week\"].unique()"
   ]
  },
  {
   "cell_type": "code",
   "execution_count": 28,
   "metadata": {},
   "outputs": [
    {
     "data": {
      "text/plain": [
       "array(['Theft', 'Homicide', 'Assault', 'Breaking & Entering',\n",
       "       'Theft of Vehicle', 'Sexual Offense', 'Robbery', 'Sexual Assault',\n",
       "       'Other Sexual Offense'], dtype=object)"
      ]
     },
     "execution_count": 28,
     "metadata": {},
     "output_type": "execute_result"
    }
   ],
   "source": [
    "data[\"parent_incident_type\"].unique()"
   ]
  },
  {
   "cell_type": "code",
   "execution_count": 33,
   "metadata": {},
   "outputs": [
    {
     "data": {
      "text/plain": [
       "incident_id              255126\n",
       "case_number              267565\n",
       "incident_datetime        211292\n",
       "incident_type_primary        19\n",
       "incident_description         13\n",
       "clearance_type                0\n",
       "address_1                 20371\n",
       "address_2                     0\n",
       "city                          1\n",
       "state                         1\n",
       "zip                          84\n",
       "country                       1\n",
       "latitude                  89514\n",
       "longitude                 86184\n",
       "created_at                28730\n",
       "updated_at                 4360\n",
       "location                  99558\n",
       "hour_of_day                  24\n",
       "day_of_week                   7\n",
       "parent_incident_type          9\n",
       "Census Tract 1               79\n",
       "Census Block 1              227\n",
       "Census Block Group 1          8\n",
       "Neighborhood 1               36\n",
       "Police District 1             6\n",
       "Council District 1            9\n",
       "dtype: int64"
      ]
     },
     "execution_count": 33,
     "metadata": {},
     "output_type": "execute_result"
    }
   ],
   "source": [
    "data.nunique()"
   ]
  },
  {
   "cell_type": "markdown",
   "metadata": {},
   "source": [
    "## Handling Missing Data"
   ]
  },
  {
   "cell_type": "code",
   "execution_count": 34,
   "metadata": {},
   "outputs": [
    {
     "data": {
      "text/plain": [
       "incident_id               12439\n",
       "case_number                   0\n",
       "incident_datetime             5\n",
       "incident_type_primary         0\n",
       "incident_description          0\n",
       "clearance_type           267565\n",
       "address_1                    39\n",
       "address_2                267565\n",
       "city                          0\n",
       "state                         0\n",
       "zip                      241215\n",
       "country                  233276\n",
       "latitude                    551\n",
       "longitude                   551\n",
       "created_at                    0\n",
       "updated_at                12439\n",
       "location                   2017\n",
       "hour_of_day                   0\n",
       "day_of_week                   5\n",
       "parent_incident_type          0\n",
       "Census Tract 1           255263\n",
       "Census Block 1           255263\n",
       "Census Block Group 1     255263\n",
       "Neighborhood 1           255263\n",
       "Police District 1        255263\n",
       "Council District 1       255288\n",
       "dtype: int64"
      ]
     },
     "execution_count": 34,
     "metadata": {},
     "output_type": "execute_result"
    }
   ],
   "source": [
    "data.isnull().sum()"
   ]
  },
  {
   "cell_type": "markdown",
   "metadata": {},
   "source": [
    "### Dropping those columns containing nearly all null values"
   ]
  },
  {
   "cell_type": "code",
   "execution_count": 40,
   "metadata": {},
   "outputs": [],
   "source": [
    "data = data.drop([\"clearance_type\", \"address_2\", \"zip\", \"country\", \"Census Tract 1\", \"Census Block 1\", \"Census Block Group 1\", \"Neighborhood 1\", \"Police District 1\", \"Council District 1\"], axis =1)"
   ]
  },
  {
   "cell_type": "code",
   "execution_count": 41,
   "metadata": {},
   "outputs": [
    {
     "data": {
      "text/plain": [
       "incident_id              12439\n",
       "case_number                  0\n",
       "incident_datetime            5\n",
       "incident_type_primary        0\n",
       "incident_description         0\n",
       "address_1                   39\n",
       "city                         0\n",
       "state                        0\n",
       "latitude                   551\n",
       "longitude                  551\n",
       "created_at                   0\n",
       "updated_at               12439\n",
       "location                  2017\n",
       "hour_of_day                  0\n",
       "day_of_week                  5\n",
       "parent_incident_type         0\n",
       "dtype: int64"
      ]
     },
     "execution_count": 41,
     "metadata": {},
     "output_type": "execute_result"
    }
   ],
   "source": [
    "data.isnull().sum()"
   ]
  },
  {
   "cell_type": "code",
   "execution_count": 47,
   "metadata": {},
   "outputs": [],
   "source": [
    "data = data.dropna()"
   ]
  },
  {
   "cell_type": "code",
   "execution_count": 48,
   "metadata": {},
   "outputs": [
    {
     "data": {
      "text/plain": [
       "incident_id              0\n",
       "case_number              0\n",
       "incident_datetime        0\n",
       "incident_type_primary    0\n",
       "incident_description     0\n",
       "address_1                0\n",
       "city                     0\n",
       "state                    0\n",
       "latitude                 0\n",
       "longitude                0\n",
       "created_at               0\n",
       "updated_at               0\n",
       "location                 0\n",
       "hour_of_day              0\n",
       "day_of_week              0\n",
       "parent_incident_type     0\n",
       "dtype: int64"
      ]
     },
     "execution_count": 48,
     "metadata": {},
     "output_type": "execute_result"
    }
   ],
   "source": [
    "data.isnull().sum()"
   ]
  },
  {
   "cell_type": "markdown",
   "metadata": {},
   "source": [
    "## Removing Duplicates"
   ]
  },
  {
   "cell_type": "code",
   "execution_count": 52,
   "metadata": {},
   "outputs": [],
   "source": [
    "data.drop_duplicates(keep = False, inplace = True)"
   ]
  },
  {
   "cell_type": "code",
   "execution_count": 53,
   "metadata": {},
   "outputs": [
    {
     "data": {
      "text/plain": [
       "(253604, 16)"
      ]
     },
     "execution_count": 53,
     "metadata": {},
     "output_type": "execute_result"
    }
   ],
   "source": [
    "data.shape"
   ]
  },
  {
   "cell_type": "code",
   "execution_count": 55,
   "metadata": {},
   "outputs": [
    {
     "data": {
      "text/plain": [
       "(267565, 26)"
      ]
     },
     "execution_count": 55,
     "metadata": {},
     "output_type": "execute_result"
    }
   ],
   "source": [
    "df.shape"
   ]
  },
  {
   "cell_type": "code",
   "execution_count": null,
   "metadata": {},
   "outputs": [],
   "source": []
  }
 ],
 "metadata": {
  "kernelspec": {
   "display_name": "Python 3",
   "language": "python",
   "name": "python3"
  },
  "language_info": {
   "codemirror_mode": {
    "name": "ipython",
    "version": 3
   },
   "file_extension": ".py",
   "mimetype": "text/x-python",
   "name": "python",
   "nbconvert_exporter": "python",
   "pygments_lexer": "ipython3",
   "version": "3.8.5"
  }
 },
 "nbformat": 4,
 "nbformat_minor": 4
}
