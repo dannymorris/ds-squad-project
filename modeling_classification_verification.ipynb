{
 "cells": [
  {
   "cell_type": "code",
   "execution_count": 1,
   "metadata": {},
   "outputs": [],
   "source": [
    "import pandas as pd\n",
    "import datetime\n",
    "import numpy as np"
   ]
  },
  {
   "cell_type": "code",
   "execution_count": 2,
   "metadata": {},
   "outputs": [],
   "source": [
    "df= pd.read_csv('df_nbh.csv')"
   ]
  },
  {
   "cell_type": "code",
   "execution_count": 3,
   "metadata": {},
   "outputs": [
    {
     "data": {
      "text/html": [
       "<div>\n",
       "<style scoped>\n",
       "    .dataframe tbody tr th:only-of-type {\n",
       "        vertical-align: middle;\n",
       "    }\n",
       "\n",
       "    .dataframe tbody tr th {\n",
       "        vertical-align: top;\n",
       "    }\n",
       "\n",
       "    .dataframe thead th {\n",
       "        text-align: right;\n",
       "    }\n",
       "</style>\n",
       "<table border=\"1\" class=\"dataframe\">\n",
       "  <thead>\n",
       "    <tr style=\"text-align: right;\">\n",
       "      <th></th>\n",
       "      <th>incident_datetime</th>\n",
       "      <th>neighborhood</th>\n",
       "      <th>day_of_week</th>\n",
       "      <th>hour_of_day</th>\n",
       "      <th>incident_id</th>\n",
       "    </tr>\n",
       "  </thead>\n",
       "  <tbody>\n",
       "    <tr>\n",
       "      <th>0</th>\n",
       "      <td>2011-06-07 00:00:00</td>\n",
       "      <td>NaN</td>\n",
       "      <td>Tuesday</td>\n",
       "      <td>12</td>\n",
       "      <td>14</td>\n",
       "    </tr>\n",
       "    <tr>\n",
       "      <th>1</th>\n",
       "      <td>2011-05-28 00:00:00</td>\n",
       "      <td>NaN</td>\n",
       "      <td>Saturday</td>\n",
       "      <td>12</td>\n",
       "      <td>12</td>\n",
       "    </tr>\n",
       "    <tr>\n",
       "      <th>2</th>\n",
       "      <td>2011-06-03 00:00:00</td>\n",
       "      <td>NaN</td>\n",
       "      <td>Friday</td>\n",
       "      <td>12</td>\n",
       "      <td>12</td>\n",
       "    </tr>\n",
       "    <tr>\n",
       "      <th>3</th>\n",
       "      <td>2011-06-12 00:00:00</td>\n",
       "      <td>NaN</td>\n",
       "      <td>Sunday</td>\n",
       "      <td>12</td>\n",
       "      <td>12</td>\n",
       "    </tr>\n",
       "    <tr>\n",
       "      <th>4</th>\n",
       "      <td>2011-05-30 00:00:00</td>\n",
       "      <td>NaN</td>\n",
       "      <td>Monday</td>\n",
       "      <td>11</td>\n",
       "      <td>11</td>\n",
       "    </tr>\n",
       "  </tbody>\n",
       "</table>\n",
       "</div>"
      ],
      "text/plain": [
       "     incident_datetime neighborhood day_of_week  hour_of_day  incident_id\n",
       "0  2011-06-07 00:00:00          NaN     Tuesday           12           14\n",
       "1  2011-05-28 00:00:00          NaN    Saturday           12           12\n",
       "2  2011-06-03 00:00:00          NaN      Friday           12           12\n",
       "3  2011-06-12 00:00:00          NaN      Sunday           12           12\n",
       "4  2011-05-30 00:00:00          NaN      Monday           11           11"
      ]
     },
     "execution_count": 3,
     "metadata": {},
     "output_type": "execute_result"
    }
   ],
   "source": [
    "df.head()"
   ]
  },
  {
   "cell_type": "code",
   "execution_count": 4,
   "metadata": {},
   "outputs": [],
   "source": [
    "df.columns=['date', 'nbh', 'day', 'hour', 'nb']\n",
    "df[\"day\"] = df[\"day\"].replace([\"Monday\", \"Tuesday\", \"Wednesday\", \"Thursday\", \"Friday\", \"Saturday\", \"Sunday\"], [\"MONDAY\", \"TUESDAY\", \"WEDNESDAY\", \"THURSDAY\", \"FRIDAY\", \"SATURDAY\", \"SUNDAY\"])"
   ]
  },
  {
   "cell_type": "code",
   "execution_count": 5,
   "metadata": {},
   "outputs": [
    {
     "data": {
      "text/plain": [
       "array([nan, 'North Park', 'Lovejoy', 'Pratt-Willert', 'Riverside',\n",
       "       'Broadway Fillmore', 'Elmwood Bryant', 'Central', 'West Hertel',\n",
       "       'Allentown', 'Elmwood Bidwell', 'Genesee-Moselle', 'Kaisertown',\n",
       "       'University Heights', 'Kensington-Bailey', 'West Side',\n",
       "       'Masten Park', 'Upper West Side', 'Lower West Side', 'Black Rock',\n",
       "       'Fruit Belt', 'Schiller Park', 'Fillmore-Leroy',\n",
       "       'Seneca-Cazenovia', 'Kenfield', 'Parkside', 'Hopkins-Tifft',\n",
       "       'Central Park', 'South Park', 'Ellicott', 'MLK Park',\n",
       "       'Grant-Amherst', 'Delavan Grider', 'Hamlin Park', 'Seneca Babcock',\n",
       "       'First Ward'], dtype=object)"
      ]
     },
     "execution_count": 5,
     "metadata": {},
     "output_type": "execute_result"
    }
   ],
   "source": [
    "df['nbh'].unique()"
   ]
  },
  {
   "cell_type": "code",
   "execution_count": 6,
   "metadata": {},
   "outputs": [],
   "source": [
    "df[\"nbh\"] = df[\"nbh\"].replace(['North Park', 'Lovejoy', 'Pratt-Willert', 'Riverside',\n",
    "                                    'Broadway Fillmore', 'Elmwood Bryant', 'Central', 'West Hertel',\n",
    "                                   'Allentown', 'Elmwood Bidwell', 'Genesee-Moselle', 'Kaisertown',\n",
    "                                   'University Heights', 'Kensington-Bailey', 'West Side',\n",
    "                                   'Masten Park', 'Upper West Side', 'Lower West Side', 'Black Rock',\n",
    "                                   'Fruit Belt', 'Schiller Park', 'Fillmore-Leroy',\n",
    "                                   'Seneca-Cazenovia', 'Kenfield', 'Parkside', 'Hopkins-Tifft',\n",
    "                                   'Central Park', 'South Park', 'Ellicott', 'MLK Park',\n",
    "                                   'Grant-Amherst', 'Delavan Grider', 'Hamlin Park', 'Seneca Babcock',\n",
    "                                   'First Ward' ], ['NorthPark', 'Lovejoy', 'PrattWillert', 'Riverside',\n",
    "                                                    'BroadwayFillmore', 'ElmwoodBryant', 'Central', 'WestHertel',\n",
    "                                                    'Allentown', 'ElmwoodBidwell', 'GeneseeMoselle', 'Kaisertown',\n",
    "                                                    'UniversityHeights', 'KensingtonBailey', 'WestSide',\n",
    "                                                    'MastenPark', 'UpperWestSide', 'LowerWestSide', 'BlackRock',\n",
    "                                                    'FruitBelt', 'SchillerPark', 'FillmoreLeroy',\n",
    "                                                    'SenecaCazenovia', 'Kenfield', 'Parkside', 'HopkinsTifft',\n",
    "                                                    'CentralPark', 'SouthPark', 'Ellicott', 'MLKPark',\n",
    "                                                    'GrantAmherst', 'DelavanGrider', 'HamlinPark', 'SenecaBabcock',\n",
    "                                                    'FirstWard'])"
   ]
  },
  {
   "cell_type": "code",
   "execution_count": 7,
   "metadata": {},
   "outputs": [
    {
     "data": {
      "text/plain": [
       "date    5841\n",
       "nbh       35\n",
       "day        7\n",
       "hour      24\n",
       "nb        14\n",
       "dtype: int64"
      ]
     },
     "execution_count": 7,
     "metadata": {},
     "output_type": "execute_result"
    }
   ],
   "source": [
    "df.nunique()"
   ]
  },
  {
   "cell_type": "code",
   "execution_count": 8,
   "metadata": {},
   "outputs": [
    {
     "data": {
      "text/plain": [
       "(250728, 5)"
      ]
     },
     "execution_count": 8,
     "metadata": {},
     "output_type": "execute_result"
    }
   ],
   "source": [
    "df.shape"
   ]
  },
  {
   "cell_type": "code",
   "execution_count": 9,
   "metadata": {},
   "outputs": [],
   "source": [
    "df = df.dropna()"
   ]
  },
  {
   "cell_type": "code",
   "execution_count": 10,
   "metadata": {},
   "outputs": [
    {
     "data": {
      "text/html": [
       "<div>\n",
       "<style scoped>\n",
       "    .dataframe tbody tr th:only-of-type {\n",
       "        vertical-align: middle;\n",
       "    }\n",
       "\n",
       "    .dataframe tbody tr th {\n",
       "        vertical-align: top;\n",
       "    }\n",
       "\n",
       "    .dataframe thead th {\n",
       "        text-align: right;\n",
       "    }\n",
       "</style>\n",
       "<table border=\"1\" class=\"dataframe\">\n",
       "  <thead>\n",
       "    <tr style=\"text-align: right;\">\n",
       "      <th></th>\n",
       "      <th>nbh</th>\n",
       "      <th>day</th>\n",
       "      <th>hour</th>\n",
       "      <th>nb</th>\n",
       "    </tr>\n",
       "  </thead>\n",
       "  <tbody>\n",
       "    <tr>\n",
       "      <th>5</th>\n",
       "      <td>NorthPark</td>\n",
       "      <td>SUNDAY</td>\n",
       "      <td>0</td>\n",
       "      <td>10</td>\n",
       "    </tr>\n",
       "    <tr>\n",
       "      <th>14</th>\n",
       "      <td>Lovejoy</td>\n",
       "      <td>SATURDAY</td>\n",
       "      <td>19</td>\n",
       "      <td>8</td>\n",
       "    </tr>\n",
       "    <tr>\n",
       "      <th>27</th>\n",
       "      <td>PrattWillert</td>\n",
       "      <td>FRIDAY</td>\n",
       "      <td>16</td>\n",
       "      <td>8</td>\n",
       "    </tr>\n",
       "    <tr>\n",
       "      <th>28</th>\n",
       "      <td>Riverside</td>\n",
       "      <td>THURSDAY</td>\n",
       "      <td>0</td>\n",
       "      <td>7</td>\n",
       "    </tr>\n",
       "    <tr>\n",
       "      <th>45</th>\n",
       "      <td>BroadwayFillmore</td>\n",
       "      <td>WEDNESDAY</td>\n",
       "      <td>0</td>\n",
       "      <td>6</td>\n",
       "    </tr>\n",
       "  </tbody>\n",
       "</table>\n",
       "</div>"
      ],
      "text/plain": [
       "                 nbh        day  hour  nb\n",
       "5          NorthPark     SUNDAY     0  10\n",
       "14           Lovejoy   SATURDAY    19   8\n",
       "27      PrattWillert     FRIDAY    16   8\n",
       "28         Riverside   THURSDAY     0   7\n",
       "45  BroadwayFillmore  WEDNESDAY     0   6"
      ]
     },
     "execution_count": 10,
     "metadata": {},
     "output_type": "execute_result"
    }
   ],
   "source": [
    "df.shape\n",
    "df_= df\n",
    "df_= df_.drop('date', axis=1)\n",
    "df_.head()"
   ]
  },
  {
   "cell_type": "code",
   "execution_count": 11,
   "metadata": {},
   "outputs": [],
   "source": [
    "dummy_weekday = pd.get_dummies(df['day'])\n",
    "\n",
    "dummy_weekday.columns = df['day'].unique()\n",
    "\n",
    "df = pd.concat([df,dummy_weekday], axis=1)\n",
    "\n",
    "dummy_hour= pd.get_dummies(df['hour'])\n",
    "\n",
    "dummy_hour.columns = df['hour'].unique()\n",
    "\n",
    "df = pd.concat([df,dummy_hour], axis=1)\n",
    "\n",
    "dummy_nbh= pd.get_dummies(df['nbh'])\n",
    "\n",
    "dummy_nbh.columns = df['nbh'].unique()\n",
    "\n",
    "df = pd.concat([df,dummy_nbh], axis=1)"
   ]
  },
  {
   "cell_type": "code",
   "execution_count": 12,
   "metadata": {},
   "outputs": [],
   "source": [
    "df= df.drop(['day', 'hour', 'nbh', 'date'], axis=1)"
   ]
  },
  {
   "cell_type": "code",
   "execution_count": 13,
   "metadata": {},
   "outputs": [
    {
     "data": {
      "text/html": [
       "<div>\n",
       "<style scoped>\n",
       "    .dataframe tbody tr th:only-of-type {\n",
       "        vertical-align: middle;\n",
       "    }\n",
       "\n",
       "    .dataframe tbody tr th {\n",
       "        vertical-align: top;\n",
       "    }\n",
       "\n",
       "    .dataframe thead th {\n",
       "        text-align: right;\n",
       "    }\n",
       "</style>\n",
       "<table border=\"1\" class=\"dataframe\">\n",
       "  <thead>\n",
       "    <tr style=\"text-align: right;\">\n",
       "      <th></th>\n",
       "      <th>nbh</th>\n",
       "      <th>day</th>\n",
       "      <th>hour</th>\n",
       "      <th>nb</th>\n",
       "    </tr>\n",
       "  </thead>\n",
       "  <tbody>\n",
       "    <tr>\n",
       "      <th>5</th>\n",
       "      <td>NorthPark</td>\n",
       "      <td>SUNDAY</td>\n",
       "      <td>0</td>\n",
       "      <td>10</td>\n",
       "    </tr>\n",
       "    <tr>\n",
       "      <th>14</th>\n",
       "      <td>Lovejoy</td>\n",
       "      <td>SATURDAY</td>\n",
       "      <td>19</td>\n",
       "      <td>8</td>\n",
       "    </tr>\n",
       "    <tr>\n",
       "      <th>27</th>\n",
       "      <td>PrattWillert</td>\n",
       "      <td>FRIDAY</td>\n",
       "      <td>16</td>\n",
       "      <td>8</td>\n",
       "    </tr>\n",
       "    <tr>\n",
       "      <th>28</th>\n",
       "      <td>Riverside</td>\n",
       "      <td>THURSDAY</td>\n",
       "      <td>0</td>\n",
       "      <td>7</td>\n",
       "    </tr>\n",
       "    <tr>\n",
       "      <th>45</th>\n",
       "      <td>BroadwayFillmore</td>\n",
       "      <td>WEDNESDAY</td>\n",
       "      <td>0</td>\n",
       "      <td>6</td>\n",
       "    </tr>\n",
       "  </tbody>\n",
       "</table>\n",
       "</div>"
      ],
      "text/plain": [
       "                 nbh        day  hour  nb\n",
       "5          NorthPark     SUNDAY     0  10\n",
       "14           Lovejoy   SATURDAY    19   8\n",
       "27      PrattWillert     FRIDAY    16   8\n",
       "28         Riverside   THURSDAY     0   7\n",
       "45  BroadwayFillmore  WEDNESDAY     0   6"
      ]
     },
     "execution_count": 13,
     "metadata": {},
     "output_type": "execute_result"
    }
   ],
   "source": [
    "df_.head()"
   ]
  },
  {
   "cell_type": "code",
   "execution_count": 14,
   "metadata": {},
   "outputs": [],
   "source": [
    "from sklearn.model_selection import KFold # import KFold\n",
    "from sklearn.metrics import accuracy_score #To calculate accuracy\n",
    "from sklearn.ensemble import RandomForestClassifier\n",
    "from sklearn.neighbors import KNeighborsClassifier\n",
    "from sklearn.preprocessing import StandardScaler"
   ]
  },
  {
   "cell_type": "code",
   "execution_count": 15,
   "metadata": {},
   "outputs": [],
   "source": [
    "kf = KFold(n_splits = 10)\n",
    "def cross_validation_XG_classifier(model):\n",
    "    accuracy = []\n",
    "    for train_index, test_index in kf.split(df):\n",
    "        #train part\n",
    "        X_train = np.array(df.drop('nb', axis = 1))[train_index]\n",
    "        y_train = np.array(df.nb)[train_index]\n",
    "        #test part\n",
    "        X_test = np.array(df.drop('nb', axis = 1))[test_index]\n",
    "        y_test = np.array(df.nb)[test_index]\n",
    "\n",
    "        model.fit(X_train, y_train)\n",
    "\n",
    "        y_pred = model.predict(X_test)\n",
    "\n",
    "        y_pred = my_ceil(np.array(y_pred))\n",
    "\n",
    "        accuracy.append(accuracy_score(y_pred, y_test))\n",
    "    return np.average(accuracy)"
   ]
  },
  {
   "cell_type": "code",
   "execution_count": 16,
   "metadata": {},
   "outputs": [],
   "source": [
    "# Converts floats to integers for classification\n",
    "def my_ceil(predictions):\n",
    "  for i in range(len(predictions)):\n",
    "\n",
    "    if predictions[i]%1 <= +0.5:\n",
    "      predictions[i] = int(predictions[i])\n",
    "    else:\n",
    "      predictions[i] = int(predictions[i]) + 1\n",
    "  return predictions\n",
    "\n",
    "\n",
    "def cross_validation_Lregressor(formula):\n",
    "    accuracy = []\n",
    "    for train_index, test_index in kf.split(df_):\n",
    "    \n",
    "        #train part\n",
    "        train = df_.iloc[train_index]\n",
    "        #test part\n",
    "        test = df_.iloc[test_index]\n",
    "\n",
    "        model_lr = formula\n",
    "        result_lr = smf.ols(model_lr, data = train).fit()\n",
    "\n",
    "        y_pred = np.array(result_lr.predict(test))\n",
    "\n",
    "        y_pred = my_ceil(y_pred)\n",
    "\n",
    "        accuracy.append(accuracy_score(y_pred, test.nb))\n",
    "   \n",
    "    return np.average(accuracy)"
   ]
  },
  {
   "cell_type": "code",
   "execution_count": 17,
   "metadata": {},
   "outputs": [],
   "source": [
    "import statsmodels.formula.api as smf\n",
    "import statsmodels.api as sm"
   ]
  },
  {
   "cell_type": "code",
   "execution_count": 18,
   "metadata": {},
   "outputs": [],
   "source": [
    "model_lr = 'nb ~ nbh + day + hour'\n",
    "result_lr = smf.ols(model_lr, data = df_).fit()"
   ]
  },
  {
   "cell_type": "code",
   "execution_count": 19,
   "metadata": {},
   "outputs": [
    {
     "data": {
      "text/plain": [
       "0.8947325862047842"
      ]
     },
     "execution_count": 19,
     "metadata": {},
     "output_type": "execute_result"
    }
   ],
   "source": [
    "cross_validation_Lregressor(model_lr)"
   ]
  },
  {
   "cell_type": "code",
   "execution_count": 20,
   "metadata": {},
   "outputs": [],
   "source": [
    "import xgboost"
   ]
  },
  {
   "cell_type": "code",
   "execution_count": 21,
   "metadata": {},
   "outputs": [],
   "source": [
    "model_xg = xgboost.XGBRegressor(objective ='reg:squarederror', colsample_bytree = 0.3, learning_rate = 0.05,\n",
    "                          alpha = 10,base_score= 0.4, booster='gbtree', n_estimators = 150)"
   ]
  },
  {
   "cell_type": "code",
   "execution_count": 22,
   "metadata": {},
   "outputs": [
    {
     "data": {
      "text/plain": [
       "0.8947325862047842"
      ]
     },
     "execution_count": 22,
     "metadata": {},
     "output_type": "execute_result"
    }
   ],
   "source": [
    "cross_validation_XG_classifier(model_xg)"
   ]
  },
  {
   "cell_type": "code",
   "execution_count": null,
   "metadata": {},
   "outputs": [],
   "source": []
  }
 ],
 "metadata": {
  "kernelspec": {
   "display_name": "Python 3",
   "language": "python",
   "name": "python3"
  },
  "language_info": {
   "codemirror_mode": {
    "name": "ipython",
    "version": 3
   },
   "file_extension": ".py",
   "mimetype": "text/x-python",
   "name": "python",
   "nbconvert_exporter": "python",
   "pygments_lexer": "ipython3",
   "version": "3.8.2"
  }
 },
 "nbformat": 4,
 "nbformat_minor": 4
}
